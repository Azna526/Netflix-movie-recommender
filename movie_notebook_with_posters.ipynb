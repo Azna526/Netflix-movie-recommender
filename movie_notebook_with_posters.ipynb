{
 "cells": [
  {
   "cell_type": "markdown",
   "id": "06245267",
   "metadata": {},
   "source": [
    "# 🎬 Netflix Movie Recommender with Posters\n",
    "This notebook builds a movie recommender system using metadata, ratings, and TMDB API posters."
   ]
  },
  {
   "cell_type": "code",
   "execution_count": null,
   "id": "9776cfc3",
   "metadata": {},
   "outputs": [],
   "source": [
    "\n",
    "import os\n",
    "import pandas as pd\n",
    "import numpy as np\n",
    "import pickle\n",
    "import requests\n",
    "from sklearn.feature_extraction.text import TfidfVectorizer\n",
    "from sklearn.metrics.pairwise import cosine_similarity\n",
    "from IPython.display import Image, display\n"
   ]
  },
  {
   "cell_type": "code",
   "execution_count": null,
   "id": "1d768bc6",
   "metadata": {},
   "outputs": [],
   "source": [
    "\n",
    "# Load datasets (ensure CSVs are in working directory or use Kaggle API)\n",
    "movies = pd.read_csv(\"movies_metadata.csv\", low_memory=False)\n",
    "ratings = pd.read_csv(\"ratings_small.csv\")\n",
    "credits = pd.read_csv(\"credits.csv\")\n",
    "keywords = pd.read_csv(\"keywords.csv\")\n",
    "links = pd.read_csv(\"links_small.csv\")\n",
    "\n",
    "print(\"Movies:\", movies.shape)\n",
    "print(\"Ratings:\", ratings.shape)\n",
    "print(\"Credits:\", credits.shape)\n",
    "print(\"Keywords:\", keywords.shape)\n",
    "print(\"Links:\", links.shape)\n"
   ]
  },
  {
   "cell_type": "code",
   "execution_count": null,
   "id": "fad7148e",
   "metadata": {},
   "outputs": [],
   "source": [
    "\n",
    "# Use 'overview' text for TF-IDF similarity\n",
    "movies['overview'] = movies['overview'].fillna('')\n",
    "\n",
    "tfidf = TfidfVectorizer(stop_words='english')\n",
    "tfidf_matrix = tfidf.fit_transform(movies['overview'])\n",
    "\n",
    "similarity = cosine_similarity(tfidf_matrix, tfidf_matrix)\n",
    "print(\"Similarity matrix shape:\", similarity.shape)\n"
   ]
  },
  {
   "cell_type": "code",
   "execution_count": null,
   "id": "d44a8b78",
   "metadata": {},
   "outputs": [],
   "source": [
    "\n",
    "# Save similarity matrix to pickle\n",
    "with open(\"similarity.pkl\", \"wb\") as f:\n",
    "    pickle.dump(similarity, f)\n",
    "print(\"✅ similarity.pkl saved.\")\n"
   ]
  },
  {
   "cell_type": "code",
   "execution_count": null,
   "id": "8ecea483",
   "metadata": {},
   "outputs": [],
   "source": [
    "\n",
    "# --- TMDB API ---\n",
    "TMDB_API_KEY = \"0d309fbe7061ac46435369d2349288ba\"   # Replace with your own key\n",
    "\n",
    "def fetch_poster(movie_title):\n",
    "    url = f\"https://api.themoviedb.org/3/search/movie?api_key={TMDB_API_KEY}&query={movie_title}\"\n",
    "    response = requests.get(url).json()\n",
    "    if response.get(\"results\"):\n",
    "        poster_path = response[\"results\"][0].get(\"poster_path\")\n",
    "        if poster_path:\n",
    "            return \"https://image.tmdb.org/t/p/w500\" + poster_path\n",
    "    return None\n",
    "\n",
    "# Test poster fetch\n",
    "print(fetch_poster(\"Toy Story\"))\n"
   ]
  },
  {
   "cell_type": "code",
   "execution_count": null,
   "id": "79de5a11",
   "metadata": {},
   "outputs": [],
   "source": [
    "\n",
    "def recommend(movie, n=5):\n",
    "    matches = movies[movies['original_title'].str.lower() == movie.lower()]\n",
    "    if matches.empty:\n",
    "        return []\n",
    "    idx = matches.index[0]\n",
    "    distances = list(enumerate(similarity[idx]))\n",
    "    distances = sorted(distances, key=lambda x: x[1], reverse=True)[1:n+1]\n",
    "    rec_idxs = [i for i, _ in distances]\n",
    "    \n",
    "    rec_movies = movies.loc[rec_idxs, [\"original_title\", \"release_date\", \"vote_average\"]].copy()\n",
    "    rec_movies[\"poster\"] = rec_movies[\"original_title\"].apply(fetch_poster)\n",
    "    return rec_movies\n"
   ]
  },
  {
   "cell_type": "code",
   "execution_count": null,
   "id": "3f592f68",
   "metadata": {},
   "outputs": [],
   "source": [
    "\n",
    "# Example usage\n",
    "recs = recommend(\"Toy Story\", 5)\n",
    "recs\n"
   ]
  },
  {
   "cell_type": "code",
   "execution_count": null,
   "id": "b2251d1a",
   "metadata": {},
   "outputs": [],
   "source": [
    "\n",
    "# Show posters inline\n",
    "for _, row in recs.iterrows():\n",
    "    display(Image(url=row[\"poster\"], width=150))\n",
    "    print(f\"{row['original_title']} ({row['release_date'][:4] if pd.notnull(row['release_date']) else 'N/A'}) ⭐ {row['vote_average']}\")\n"
   ]
  }
 ],
 "metadata": {},
 "nbformat": 4,
 "nbformat_minor": 5
}
