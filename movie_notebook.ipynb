{
 "cells": [
  {
   "cell_type": "code",
   "execution_count": 4,
   "metadata": {},
   "outputs": [
    {
     "name": "stdout",
     "output_type": "stream",
     "text": [
      "2.3.2\n"
     ]
    }
   ],
   "source": [
    "import pandas as pd\n",
    "\n",
    "print(pd.__version__)\n"
   ]
  },
  {
   "cell_type": "code",
   "execution_count": 3,
   "metadata": {},
   "outputs": [],
   "source": [
    "movies = pd.read_csv(\"data/movies_metadata.csv\", low_memory=False)\n",
    "ratings = pd.read_csv(\"data/ratings.csv\")\n",
    "\n",
    "\n"
   ]
  },
  {
   "cell_type": "code",
   "execution_count": 5,
   "metadata": {},
   "outputs": [
    {
     "name": "stderr",
     "output_type": "stream",
     "text": [
      "[nltk_data] Downloading package punkt to\n",
      "[nltk_data]     C:\\Users\\kazia\\AppData\\Roaming\\nltk_data...\n",
      "[nltk_data]   Package punkt is already up-to-date!\n",
      "[nltk_data] Downloading package averaged_perceptron_tagger to\n",
      "[nltk_data]     C:\\Users\\kazia\\AppData\\Roaming\\nltk_data...\n",
      "[nltk_data]   Package averaged_perceptron_tagger is already up-to-\n",
      "[nltk_data]       date!\n",
      "[nltk_data] Downloading package wordnet to\n",
      "[nltk_data]     C:\\Users\\kazia\\AppData\\Roaming\\nltk_data...\n",
      "[nltk_data]   Package wordnet is already up-to-date!\n"
     ]
    },
    {
     "data": {
      "text/plain": [
       "True"
      ]
     },
     "execution_count": 5,
     "metadata": {},
     "output_type": "execute_result"
    }
   ],
   "source": [
    "import nltk\n",
    "nltk.download('punkt')\n",
    "nltk.download('averaged_perceptron_tagger')\n",
    "nltk.download('wordnet')\n"
   ]
  },
  {
   "cell_type": "code",
   "execution_count": null,
   "metadata": {},
   "outputs": [],
   "source": [
    "from nltk.corpus import wordnet\n",
    "from nltk.stem import WordNetLemmatizer\n",
    "from nltk import pos_tag, word_tokenize\n",
    "from sklearn.metrics.pairwise import cosine_similarity\n",
    "lemmatizer = WordNetLemmatizer()\n",
    "\n",
    "def get_wordnet_pos(tag):\n",
    "    tag_dict = {\n",
    "        \"J\": wordnet.ADJ,\n",
    "        \"N\": wordnet.NOUN,\n",
    "        \"V\": wordnet.VERB,\n",
    "        \"R\": wordnet.ADV\n",
    "    }\n",
    "    return tag_dict.get(tag[0].upper(), wordnet.NOUN)\n",
    "\n",
    "def lemmatize_sentence(sentence):\n",
    "    tokens = word_tokenize(sentence)        # tokenize sentence\n",
    "    pos_tags = pos_tag(tokens)              # part-of-speech tagging\n",
    "    return \" \".join([lemmatizer.lemmatize(word, get_wordnet_pos(pos)) \n",
    "                     for word, pos in pos_tags])"
   ]
  },
  {
   "cell_type": "code",
   "execution_count": null,
   "metadata": {},
   "outputs": [],
   "source": [
    "import pandas as pd\n",
    "import numpy as np\n",
    "from sklearn.feature_extraction.text import TfidfVectorizer  # Fixed: 'fasture'->'feature', 'TfIdFVectorizer'->'TfidfVectorizer'\n",
    "from nltk import word_tokenize, pos_tag  # Fixed: 'top_tag'->'pos_tag'\n",
    "from nltk.stem.wordnet import WordNetLemmatizer  # Fixed: 'nordnet'->'wordnet', 'NordNetImmersion'->'WordNetLemmatizer'\n",
    "from sklearn.metrics.pairwise import cosine_similarity  # Fixed: 'palvoids'->'pairwise', 'cosine_dimilarity'->'cosine_similarity\n",
    "import pickle  # Fixed: 'picks'->'pickle' (this was correct)"
   ]
  },
  {
   "cell_type": "code",
   "execution_count": 6,
   "metadata": {},
   "outputs": [
    {
     "name": "stderr",
     "output_type": "stream",
     "text": [
      "C:\\Users\\kazia\\AppData\\Local\\Temp\\ipykernel_24224\\40784805.py:1: DtypeWarning: Columns (10) have mixed types. Specify dtype option on import or set low_memory=False.\n",
      "  movies = pd.read_csv('movies_metadata.csv')\n"
     ]
    }
   ],
   "source": [
    "movies = pd.read_csv('movies_metadata.csv')\n",
    "ratings = pd.read_csv('ratings_small.csv')   # or ratings.csv depending on which one you want\n",
    "credits = pd.read_csv('credits.csv')\n",
    "keywords = pd.read_csv('keywords.csv')\n",
    "links = pd.read_csv('links.csv')\n",
    "links_small = pd.read_csv('links_small.csv')\n"
   ]
  },
  {
   "cell_type": "code",
   "execution_count": null,
   "metadata": {},
   "outputs": [],
   "source": [
    "genre.info()"
   ]
  },
  {
   "cell_type": "code",
   "execution_count": null,
   "metadata": {},
   "outputs": [],
   "source": [
    "movie.columns"
   ]
  },
  {
   "cell_type": "code",
   "execution_count": 7,
   "metadata": {},
   "outputs": [
    {
     "name": "stdout",
     "output_type": "stream",
     "text": [
      "                         title                        genres\n",
      "0                    Toy Story   [Animation, Comedy, Family]\n",
      "1                      Jumanji  [Adventure, Fantasy, Family]\n",
      "2             Grumpier Old Men             [Romance, Comedy]\n",
      "3            Waiting to Exhale      [Comedy, Drama, Romance]\n",
      "4  Father of the Bride Part II                      [Comedy]\n"
     ]
    }
   ],
   "source": [
    "import ast\n",
    "\n",
    "# The Kaggle movies_metadata.csv already has genres\n",
    "movies['genres'] = movies['genres'].fillna('[]').apply(ast.literal_eval)\n",
    "movies['genres'] = movies['genres'].apply(\n",
    "    lambda x: [d['name'] for d in x] if isinstance(x, list) else []\n",
    ")\n",
    "\n",
    "print(movies[['title', 'genres']].head())\n"
   ]
  },
  {
   "cell_type": "code",
   "execution_count": 8,
   "metadata": {},
   "outputs": [],
   "source": [
    "movies['genres_str'] = movies['genres'].apply(lambda x: \" \".join(x) + \" \")\n"
   ]
  },
  {
   "cell_type": "code",
   "execution_count": 10,
   "metadata": {},
   "outputs": [],
   "source": [
    "import ast\n",
    "\n",
    "# Fill NaNs first\n",
    "movies['genres'] = movies['genres'].fillna('[]')\n",
    "\n",
    "# Convert strings to list if needed\n",
    "def parse_genres(x):\n",
    "    if isinstance(x, str):\n",
    "        return ast.literal_eval(x)\n",
    "    elif isinstance(x, list):\n",
    "        return x\n",
    "    else:\n",
    "        return []\n",
    "\n",
    "movies['genres'] = movies['genres'].apply(parse_genres)\n",
    "\n",
    "# Extract just the genre names (if it's a list of dicts)\n",
    "movies['genres'] = movies['genres'].apply(\n",
    "    lambda x: [d['name'] for d in x] if isinstance(x, list) and len(x) > 0 and isinstance(x[0], dict) else x\n",
    ")\n",
    "\n",
    "# Combine into single string\n",
    "movies['genres_str'] = movies['genres'].apply(lambda x: \" \".join(x))\n",
    "\n"
   ]
  },
  {
   "cell_type": "code",
   "execution_count": 3,
   "metadata": {
    "scrolled": true
   },
   "outputs": [],
   "source": [
    "import pandas as pd\n",
    "\n",
    "import ast\n",
    "\n",
    "# Load movies_metadata.csv first\n",
    "movies = pd.read_csv(\"movies_metadata.csv\", low_memory=False)\n",
    "\n",
    "# Parse the genres column\n",
    "movies['genres'] = movies['genres'].fillna('[]').apply(ast.literal_eval)\n",
    "movies['genres'] = movies['genres'].apply(\n",
    "    lambda x: [d['name'] for d in x] if isinstance(x, list) else []\n",
    ")\n",
    "\n",
    "# Optional: create a string version of genres for text-based analysis\n",
    "movies['genres_str'] = movies['genres'].apply(lambda x: \" \".join(x))\n"
   ]
  },
  {
   "cell_type": "code",
   "execution_count": 4,
   "metadata": {},
   "outputs": [
    {
     "name": "stdout",
     "output_type": "stream",
     "text": [
      "<class 'pandas.core.frame.DataFrame'>\n",
      "RangeIndex: 45466 entries, 0 to 45465\n",
      "Data columns (total 25 columns):\n",
      " #   Column                 Non-Null Count  Dtype  \n",
      "---  ------                 --------------  -----  \n",
      " 0   adult                  45466 non-null  object \n",
      " 1   belongs_to_collection  4494 non-null   object \n",
      " 2   budget                 45466 non-null  object \n",
      " 3   genres                 45466 non-null  object \n",
      " 4   homepage               7782 non-null   object \n",
      " 5   id                     45466 non-null  object \n",
      " 6   imdb_id                45449 non-null  object \n",
      " 7   original_language      45455 non-null  object \n",
      " 8   original_title         45466 non-null  object \n",
      " 9   overview               44512 non-null  object \n",
      " 10  popularity             45461 non-null  object \n",
      " 11  poster_path            45080 non-null  object \n",
      " 12  production_companies   45463 non-null  object \n",
      " 13  production_countries   45463 non-null  object \n",
      " 14  release_date           45379 non-null  object \n",
      " 15  revenue                45460 non-null  float64\n",
      " 16  runtime                45203 non-null  float64\n",
      " 17  spoken_languages       45460 non-null  object \n",
      " 18  status                 45379 non-null  object \n",
      " 19  tagline                20412 non-null  object \n",
      " 20  title                  45460 non-null  object \n",
      " 21  video                  45460 non-null  object \n",
      " 22  vote_average           45460 non-null  float64\n",
      " 23  vote_count             45460 non-null  float64\n",
      " 24  genres_str             45466 non-null  object \n",
      "dtypes: float64(4), object(21)\n",
      "memory usage: 8.7+ MB\n"
     ]
    }
   ],
   "source": [
    "movies.info()"
   ]
  },
  {
   "cell_type": "code",
   "execution_count": 5,
   "metadata": {},
   "outputs": [
    {
     "data": {
      "text/plain": [
       "adult                        0\n",
       "belongs_to_collection    40972\n",
       "budget                       0\n",
       "genres                       0\n",
       "homepage                 37684\n",
       "id                           0\n",
       "imdb_id                     17\n",
       "original_language           11\n",
       "original_title               0\n",
       "overview                   954\n",
       "popularity                   5\n",
       "poster_path                386\n",
       "production_companies         3\n",
       "production_countries         3\n",
       "release_date                87\n",
       "revenue                      6\n",
       "runtime                    263\n",
       "spoken_languages             6\n",
       "status                      87\n",
       "tagline                  25054\n",
       "title                        6\n",
       "video                        6\n",
       "vote_average                 6\n",
       "vote_count                   6\n",
       "genres_str                   0\n",
       "dtype: int64"
      ]
     },
     "execution_count": 5,
     "metadata": {},
     "output_type": "execute_result"
    }
   ],
   "source": [
    "movies.isna().sum()"
   ]
  },
  {
   "cell_type": "code",
   "execution_count": 6,
   "metadata": {},
   "outputs": [],
   "source": [
    "movies = movies.iloc[movies['overview'].dropna().index]\n"
   ]
  },
  {
   "cell_type": "code",
   "execution_count": 7,
   "metadata": {},
   "outputs": [],
   "source": [
    "movies = movies.fillna(' ')"
   ]
  },
  {
   "cell_type": "code",
   "execution_count": 9,
   "metadata": {},
   "outputs": [],
   "source": [
    "movies['release_date'] = pd.to_datetime(movies['release_date'], errors='coerce')\n"
   ]
  },
  {
   "cell_type": "code",
   "execution_count": 10,
   "metadata": {},
   "outputs": [],
   "source": [
    "movies = movies.sort_values(by=['release_date'], ascending=False)"
   ]
  },
  {
   "cell_type": "code",
   "execution_count": 11,
   "metadata": {},
   "outputs": [],
   "source": [
    "movies = movies.fillna(' ')\n",
    "movies['release_date'] = pd.to_datetime(movies['release_date'], errors='coerce')\n",
    "movies = movies.sort_values(by=['release_date'], ascending=False)\n"
   ]
  },
  {
   "cell_type": "code",
   "execution_count": 12,
   "metadata": {},
   "outputs": [],
   "source": [
    "movies.dropna(inplace=True)"
   ]
  },
  {
   "cell_type": "code",
   "execution_count": 15,
   "metadata": {},
   "outputs": [
    {
     "name": "stdout",
     "output_type": "stream",
     "text": [
      "                     title                                   genres_list                                                                                                                                                                                                                                                                                                                                                                            Tags\n",
      "                  Avatar 2 [Action, Adventure, Fantasy, Science Fiction]                                                                                                                                                                                                                                                                                                    Action Adventure Fantasy ScienceFiction A sequel to Avatar (2009).  Avatar 2\n",
      "The Other Side of the Wind                               [Comedy, Drama] Comedy Drama Orson Welles' unfinished masterpiece, restored and assembled based on Welles' own notes. During the last 15 years of his life, Welles, who died in 1985, worked obsessively on the film, which chronicles a temperamental film director—much like him—who is battling with the Hollywood establishment to finish an iconoclastic work.  The Other Side of the Wind\n",
      "         Bad Boys for Life                     [Thriller, Action, Crime]                                                                                                                                                                                                                                            Thriller Action Crime The continuing adventures of Miami detectives Mike Lowrey and Marcus Burnett. Plot unknown.  Bad Boys for Life\n"
     ]
    }
   ],
   "source": [
    "import pandas as pd\n",
    "import ast\n",
    "\n",
    "# 1) Load the Kaggle file (same folder as your notebook).\n",
    "#    If your CSVs are inside a subfolder named \"data\", change to \"data/movies_metadata.csv\".\n",
    "movies = pd.read_csv(\"movies_metadata.csv\", low_memory=False)\n",
    "\n",
    "# 2) Safe parser for the 'genres' column (handles strings like \"[{'id': 28, 'name': 'Action'}, ...]\").\n",
    "def parse_genres(val):\n",
    "    if pd.isna(val):\n",
    "        return []\n",
    "    if isinstance(val, list):\n",
    "        # already parsed\n",
    "        return [d.get('name', '') for d in val if isinstance(d, dict)]\n",
    "    if isinstance(val, str):\n",
    "        try:\n",
    "            data = ast.literal_eval(val)\n",
    "            if isinstance(data, list):\n",
    "                return [d.get('name', '') for d in data if isinstance(d, dict)]\n",
    "        except Exception:\n",
    "            return []\n",
    "    return []\n",
    "\n",
    "movies[\"genres_list\"] = movies[\"genres\"].apply(parse_genres)\n",
    "# Optional: squash spaces in genre names so they behave like tags (e.g., \"Science Fiction\" -> \"ScienceFiction\")\n",
    "movies[\"genres_str\"] = movies[\"genres_list\"].apply(lambda lst: \" \".join(g.replace(\" \", \"\") for g in lst))\n",
    "\n",
    "# 3) Ensure text columns exist, fill NaNs with empty strings\n",
    "for col in [\"overview\", \"tagline\", \"title\"]:\n",
    "    if col not in movies.columns:\n",
    "        movies[col] = \"\"  # create empty if missing (rare)\n",
    "    movies[col] = movies[col].fillna(\"\").astype(str)\n",
    "\n",
    "# 4) Build the Tags column (Kaggle version)\n",
    "movies[\"Tags\"] = (\n",
    "    movies[\"genres_str\"] + \" \" +\n",
    "    movies[\"overview\"] + \" \" +\n",
    "    movies[\"tagline\"] + \" \" +\n",
    "    movies[\"title\"]\n",
    ").str.strip()\n",
    "\n",
    "# 5) Dates: Kaggle uses 'release_date' (lowercase). Coerce bad/missing values.\n",
    "if \"release_date\" in movies.columns:\n",
    "    movies[\"release_date\"] = pd.to_datetime(movies[\"release_date\"], errors=\"coerce\")\n",
    "    movies = movies.sort_values(\"release_date\", ascending=False)\n",
    "\n",
    "# 6) Quick sanity check\n",
    "print(movies[[\"title\", \"genres_list\", \"Tags\"]].head(3).to_string(index=False))\n",
    "\n"
   ]
  },
  {
   "cell_type": "code",
   "execution_count": 16,
   "metadata": {},
   "outputs": [],
   "source": [
    "movies['Tags'] = movies['Tags'].str.lower()"
   ]
  },
  {
   "cell_type": "code",
   "execution_count": 17,
   "metadata": {},
   "outputs": [],
   "source": [
    "movies.reset_index(inplace=True)"
   ]
  },
  {
   "cell_type": "code",
   "execution_count": 18,
   "metadata": {},
   "outputs": [],
   "source": [
    "#work with first 10000 movies due to memory space\n",
    "movies = movies[:10000]"
   ]
  },
  {
   "cell_type": "code",
   "execution_count": 19,
   "metadata": {},
   "outputs": [],
   "source": [
    "def lemmatize_sentence(sentence):\n",
    "    lemmatizer = WordNetLemmatizer()\n",
    "    tokens = word_tokenize(sentence)\n",
    "    pos_tags = pos_tag(tokens)\n",
    "\n",
    "    def get_wordnet_pos(tag):\n",
    "        tag_dict = {\"J\": wordnet.ADJ,\n",
    "                    \"N\": wordnet.NOUN,\n",
    "                    \"V\": wordnet.VERB,\n",
    "                    \"R\": wordnet.ADV}\n",
    "        return tag_dict.get(tag[0].upper(), wordnet.NOUN)\n",
    "\n",
    "    return \" \".join([lemmatizer.lemmatize(word, get_wordnet_pos(pos)) for word, pos in pos_tags])\n"
   ]
  },
  {
   "cell_type": "code",
   "execution_count": 20,
   "metadata": {},
   "outputs": [
    {
     "name": "stdout",
     "output_type": "stream",
     "text": [
      "Index(['index', 'adult', 'belongs_to_collection', 'budget', 'genres',\n",
      "       'homepage', 'id', 'imdb_id', 'original_language', 'original_title',\n",
      "       'overview', 'popularity', 'poster_path', 'production_companies',\n",
      "       'production_countries', 'release_date', 'revenue', 'runtime',\n",
      "       'spoken_languages', 'status', 'tagline', 'title', 'video',\n",
      "       'vote_average', 'vote_count', 'genres_list', 'genres_str', 'Tags'],\n",
      "      dtype='object')\n"
     ]
    }
   ],
   "source": [
    "print(movies.columns)"
   ]
  },
  {
   "cell_type": "code",
   "execution_count": 21,
   "metadata": {},
   "outputs": [
    {
     "name": "stdout",
     "output_type": "stream",
     "text": [
      "Index(['index', 'adult', 'belongs_to_collection', 'budget', 'genres',\n",
      "       'homepage', 'id', 'imdb_id', 'original_language', 'original_title',\n",
      "       'overview', 'popularity', 'poster_path', 'production_companies',\n",
      "       'production_countries', 'release_date', 'revenue', 'runtime',\n",
      "       'spoken_languages', 'status', 'tagline', 'title', 'video',\n",
      "       'vote_average', 'vote_count', 'genres_list', 'genres_str', 'tags'],\n",
      "      dtype='object')\n"
     ]
    }
   ],
   "source": [
    "movies.columns = movies.columns.str.lower().str.strip()\n",
    "print(movies.columns)\n"
   ]
  },
  {
   "cell_type": "code",
   "execution_count": 25,
   "metadata": {},
   "outputs": [],
   "source": [
    "from nltk.corpus import wordnet\n",
    "from nltk.stem import WordNetLemmatizer\n",
    "from nltk import pos_tag, word_tokenize\n",
    "movies['tags_'] = movies['overview'].astype(str).fillna(\"\").apply(lemmatize_sentence)"
   ]
  },
  {
   "cell_type": "code",
   "execution_count": 26,
   "metadata": {},
   "outputs": [],
   "source": [
    "from sklearn.feature_extraction.text import TfidfVectorizer  \n",
    "\n",
    "vectorizer = TfidfVectorizer(max_features=7000, stop_words='english', lowercase=True)\n",
    " "
   ]
  },
  {
   "cell_type": "code",
   "execution_count": 27,
   "metadata": {},
   "outputs": [],
   "source": [
    "vectors = vectorizer.fit_transform(movies['tags']).toarray()"
   ]
  },
  {
   "cell_type": "code",
   "execution_count": 28,
   "metadata": {},
   "outputs": [
    {
     "name": "stdout",
     "output_type": "stream",
     "text": [
      "Vectors shape: (10000, 5000)\n",
      "Similarity shape: (10000, 10000)\n"
     ]
    }
   ],
   "source": [
    "# Step 1: Import everything you need\n",
    "from sklearn.feature_extraction.text import CountVectorizer\n",
    "from sklearn.metrics.pairwise import cosine_similarity\n",
    "\n",
    "# Step 2: Vectorize your movie tags column\n",
    "vectorizer = CountVectorizer(max_features=5000, stop_words='english')\n",
    "vectors = vectorizer.fit_transform(movies['tags']).toarray()  # now 'vectors' exists\n",
    "\n",
    "# Step 3: Build similarity matrix\n",
    "similarity = cosine_similarity(vectors)\n",
    "\n",
    "print(\"Vectors shape:\", vectors.shape)\n",
    "print(\"Similarity shape:\", similarity.shape)\n"
   ]
  },
  {
   "cell_type": "code",
   "execution_count": 29,
   "metadata": {},
   "outputs": [],
   "source": [
    "similarity = cosine_similarity(vectors) "
   ]
  },
  {
   "cell_type": "code",
   "execution_count": 30,
   "metadata": {},
   "outputs": [
    {
     "data": {
      "text/plain": [
       "(10000, 10000)"
      ]
     },
     "execution_count": 30,
     "metadata": {},
     "output_type": "execute_result"
    }
   ],
   "source": [
    "similarity.shape"
   ]
  },
  {
   "cell_type": "code",
   "execution_count": 34,
   "metadata": {},
   "outputs": [],
   "source": [
    "def recommendation(title, data): \n",
    "    try:\n",
    "        movie_index = data[data['TITLE'] == title].index[0] \n",
    "    except:\n",
    "        return \"Movie not currently in the database\"\n",
    "    distances = similarity[movie_index] \n",
    "    movies_list = sorted(list(enumerate(distances)),reverse=True,key=lambda x:x[1])[1:10]\n",
    "    for i in movies_list:\n",
    "        print(data.iloc[i[0]].TITLE) "
   ]
  },
  {
   "cell_type": "code",
   "execution_count": 33,
   "metadata": {},
   "outputs": [
    {
     "data": {
      "text/plain": [
       "array(['Avatar 2', 'The Other Side of the Wind', 'Bad Boys for Life',\n",
       "       'Mary Shelley', 'Mobile Homes', 'Iron Sky: The Coming Race',\n",
       "       'Sly Cooper', \"The King's Daughter\",\n",
       "       'How to Talk to Girls at Parties', 'Pitch Perfect 3', 'Machines',\n",
       "       'Sweet Virginia', 'Justice League', '78/52',\n",
       "       'Call Me by Your Name', 'Thor: Ragnarok', 'Dina', 'Beyond Skyline',\n",
       "       'Resurrecting Hassan', 'Leatherface', 'Porto', \"God's Own Country\",\n",
       "       'Science Fiction Volume One: The Osiris Child',\n",
       "       'The Trip to Spain', 'LEGO DC Super Hero Girls: Brain Drain',\n",
       "       'Patti Cake$', 'What Happened to Monday', 'Ingrid Goes West',\n",
       "       'Good Time', 'The Glass Castle', 'A Gray State', 'Kidnap',\n",
       "       'Chronically Metropolitan', 'Columbus', 'The Dark Tower',\n",
       "       'London Town', 'Wind River', 'Hostages',\n",
       "       'Cop and a Half: New Recruit', 'S.W.A.T.: Under Siege',\n",
       "       '東京喰種 トーキョーグール', 'Detroit', 'The Emoji Movie',\n",
       "       'An Inconvenient Sequel: Truth to Power',\n",
       "       'Lauri Mäntyvaaran tuuheet ripset', 'The Son of Bigfoot',\n",
       "       'Brigsby Bear', 'Atomic Blonde', 'First Kill',\n",
       "       'The Gracefield Incident', 'Landline', 'Descendants 2',\n",
       "       'Girls Trip', 'Valerian and the City of a Thousand Planets',\n",
       "       'Dunkirk', 'Feed', 'City of Ghosts', 'Shot Caller', 'Блокбастер',\n",
       "       'Zygote', 'The Nile Hilton Incident',\n",
       "       'War for the Planet of the Apes', 'The Saint', 'Tour de Pharmacy',\n",
       "       'Maa', 'A Ghost Story', 'Do You Take This Man', 'Hickok',\n",
       "       \"Tommy's Honour\", 'Wish Upon', 'Stratton', 'Soundtrack', 'Revolt',\n",
       "       'The Little Hours', 'Amityville: The Awakening', 'Inconceivable',\n",
       "       'Estiu 1993', 'Overdrive', 'The House', '2:22', 'Bedeviled',\n",
       "       'Abduction', 'Baby Driver', 'Firebase',\n",
       "       \"Chris D'Elia: Man on Fire\", 'Edith Walks', 'The Beguiled',\n",
       "       'Tubelight', 'The Big Sick', 'Selfie', 'Hampstead', 'Ripped',\n",
       "       'The Bad Batch', 'Ava', 'Transformers: The Last Knight',\n",
       "       'Rory Scovel Tries Stand-Up for the First Time', 'You Get Me',\n",
       "       'Lou', 'The Book of Henry', 'Cars 3'], dtype=object)"
      ]
     },
     "execution_count": 33,
     "metadata": {},
     "output_type": "execute_result"
    }
   ],
   "source": [
    "movies['original_title'][:100].values\n"
   ]
  },
  {
   "cell_type": "code",
   "execution_count": 35,
   "metadata": {},
   "outputs": [],
   "source": [
    "def recommendation(title, data, similarity=similarity):\n",
    "    try:\n",
    "        # find index of the movie\n",
    "        movie_index = data[data['original_title'].str.lower() == title.lower()].index[0]\n",
    "    except IndexError:\n",
    "        return \"Movie not currently in the database\"\n",
    "    \n",
    "    # get similarity scores\n",
    "    distances = list(enumerate(similarity[movie_index]))\n",
    "    distances = sorted(distances, key=lambda x: x[1], reverse=True)[1:6]\n",
    "    \n",
    "    # return top 5 similar movies\n",
    "    return data['original_title'].iloc[[i[0] for i in distances]].tolist()\n"
   ]
  },
  {
   "cell_type": "code",
   "execution_count": 57,
   "metadata": {},
   "outputs": [
    {
     "data": {
      "text/plain": [
       "['The Night Flier',\n",
       " 'Una pura formalità',\n",
       " 'Judge Dredd',\n",
       " 'The Mosquito Coast',\n",
       " 'My Cousin Vinny']"
      ]
     },
     "execution_count": 57,
     "metadata": {},
     "output_type": "execute_result"
    }
   ],
   "source": [
    "recommendation(\"Jumanji\", data=movies)"
   ]
  },
  {
   "cell_type": "code",
   "execution_count": 58,
   "metadata": {},
   "outputs": [
    {
     "data": {
      "text/plain": [
       "['H.O.T.S.',\n",
       " \"All The Queen's Men\",\n",
       " 'Squeeze',\n",
       " 'King Creole',\n",
       " 'La vieille qui marchait dans la mer']"
      ]
     },
     "execution_count": 58,
     "metadata": {},
     "output_type": "execute_result"
    }
   ],
   "source": [
    "recommendation(\"Copycat\", data=movies)"
   ]
  },
  {
   "cell_type": "code",
   "execution_count": 39,
   "metadata": {},
   "outputs": [],
   "source": [
    "movies.to_csv('data.csv', index=False)"
   ]
  },
  {
   "cell_type": "code",
   "execution_count": 40,
   "metadata": {},
   "outputs": [],
   "source": [
    "import pickle\n",
    "pickle.dump(similarity, open('similarity.pkl','wb'))"
   ]
  },
  {
   "cell_type": "code",
   "execution_count": 41,
   "metadata": {},
   "outputs": [],
   "source": [
    "import nltk\n",
    "nltk.data.path.append(r\"C:\\Users\\kazia\\AppData\\Roaming\\nltk_data\")\n",
    "\n"
   ]
  },
  {
   "cell_type": "code",
   "execution_count": 41,
   "metadata": {},
   "outputs": [
    {
     "data": {
      "text/plain": [
       "['credits.csv',\n",
       " 'keywords.csv',\n",
       " 'links.csv',\n",
       " 'links_small.csv',\n",
       " 'movies_metadata.csv',\n",
       " 'ratings.csv',\n",
       " 'ratings_small.csv']"
      ]
     },
     "execution_count": 41,
     "metadata": {},
     "output_type": "execute_result"
    }
   ],
   "source": [
    "import os\n",
    "os.listdir(\"data\")\n",
    "\n"
   ]
  },
  {
   "cell_type": "code",
   "execution_count": 42,
   "metadata": {},
   "outputs": [
    {
     "name": "stdout",
     "output_type": "stream",
     "text": [
      "(45466, 24) (45476, 3) (46419, 2) (26024289, 4)\n"
     ]
    }
   ],
   "source": [
    "import pandas as pd\n",
    "\n",
    "# Load the available CSV files\n",
    "movies = pd.read_csv(\"data/movies_metadata.csv\", low_memory=False)\n",
    "credits = pd.read_csv(\"data/credits.csv\")\n",
    "keywords = pd.read_csv(\"data/keywords.csv\")\n",
    "ratings = pd.read_csv(\"data/ratings.csv\")\n",
    "\n",
    "print(movies.shape, credits.shape, keywords.shape, ratings.shape)"
   ]
  },
  {
   "cell_type": "code",
   "execution_count": 44,
   "metadata": {},
   "outputs": [
    {
     "name": "stdout",
     "output_type": "stream",
     "text": [
      "(45466, 24)\n"
     ]
    },
    {
     "data": {
      "text/html": [
       "<div>\n",
       "<style scoped>\n",
       "    .dataframe tbody tr th:only-of-type {\n",
       "        vertical-align: middle;\n",
       "    }\n",
       "\n",
       "    .dataframe tbody tr th {\n",
       "        vertical-align: top;\n",
       "    }\n",
       "\n",
       "    .dataframe thead th {\n",
       "        text-align: right;\n",
       "    }\n",
       "</style>\n",
       "<table border=\"1\" class=\"dataframe\">\n",
       "  <thead>\n",
       "    <tr style=\"text-align: right;\">\n",
       "      <th></th>\n",
       "      <th>adult</th>\n",
       "      <th>belongs_to_collection</th>\n",
       "      <th>budget</th>\n",
       "      <th>genres</th>\n",
       "      <th>homepage</th>\n",
       "      <th>id</th>\n",
       "      <th>imdb_id</th>\n",
       "      <th>original_language</th>\n",
       "      <th>original_title</th>\n",
       "      <th>overview</th>\n",
       "      <th>...</th>\n",
       "      <th>release_date</th>\n",
       "      <th>revenue</th>\n",
       "      <th>runtime</th>\n",
       "      <th>spoken_languages</th>\n",
       "      <th>status</th>\n",
       "      <th>tagline</th>\n",
       "      <th>title</th>\n",
       "      <th>video</th>\n",
       "      <th>vote_average</th>\n",
       "      <th>vote_count</th>\n",
       "    </tr>\n",
       "  </thead>\n",
       "  <tbody>\n",
       "    <tr>\n",
       "      <th>0</th>\n",
       "      <td>False</td>\n",
       "      <td>{'id': 10194, 'name': 'Toy Story Collection', ...</td>\n",
       "      <td>30000000</td>\n",
       "      <td>[{'id': 16, 'name': 'Animation'}, {'id': 35, '...</td>\n",
       "      <td>http://toystory.disney.com/toy-story</td>\n",
       "      <td>862</td>\n",
       "      <td>tt0114709</td>\n",
       "      <td>en</td>\n",
       "      <td>Toy Story</td>\n",
       "      <td>Led by Woody, Andy's toys live happily in his ...</td>\n",
       "      <td>...</td>\n",
       "      <td>1995-10-30</td>\n",
       "      <td>373554033.0</td>\n",
       "      <td>81.0</td>\n",
       "      <td>[{'iso_639_1': 'en', 'name': 'English'}]</td>\n",
       "      <td>Released</td>\n",
       "      <td>NaN</td>\n",
       "      <td>Toy Story</td>\n",
       "      <td>False</td>\n",
       "      <td>7.7</td>\n",
       "      <td>5415.0</td>\n",
       "    </tr>\n",
       "    <tr>\n",
       "      <th>1</th>\n",
       "      <td>False</td>\n",
       "      <td>NaN</td>\n",
       "      <td>65000000</td>\n",
       "      <td>[{'id': 12, 'name': 'Adventure'}, {'id': 14, '...</td>\n",
       "      <td>NaN</td>\n",
       "      <td>8844</td>\n",
       "      <td>tt0113497</td>\n",
       "      <td>en</td>\n",
       "      <td>Jumanji</td>\n",
       "      <td>When siblings Judy and Peter discover an encha...</td>\n",
       "      <td>...</td>\n",
       "      <td>1995-12-15</td>\n",
       "      <td>262797249.0</td>\n",
       "      <td>104.0</td>\n",
       "      <td>[{'iso_639_1': 'en', 'name': 'English'}, {'iso...</td>\n",
       "      <td>Released</td>\n",
       "      <td>Roll the dice and unleash the excitement!</td>\n",
       "      <td>Jumanji</td>\n",
       "      <td>False</td>\n",
       "      <td>6.9</td>\n",
       "      <td>2413.0</td>\n",
       "    </tr>\n",
       "    <tr>\n",
       "      <th>2</th>\n",
       "      <td>False</td>\n",
       "      <td>{'id': 119050, 'name': 'Grumpy Old Men Collect...</td>\n",
       "      <td>0</td>\n",
       "      <td>[{'id': 10749, 'name': 'Romance'}, {'id': 35, ...</td>\n",
       "      <td>NaN</td>\n",
       "      <td>15602</td>\n",
       "      <td>tt0113228</td>\n",
       "      <td>en</td>\n",
       "      <td>Grumpier Old Men</td>\n",
       "      <td>A family wedding reignites the ancient feud be...</td>\n",
       "      <td>...</td>\n",
       "      <td>1995-12-22</td>\n",
       "      <td>0.0</td>\n",
       "      <td>101.0</td>\n",
       "      <td>[{'iso_639_1': 'en', 'name': 'English'}]</td>\n",
       "      <td>Released</td>\n",
       "      <td>Still Yelling. Still Fighting. Still Ready for...</td>\n",
       "      <td>Grumpier Old Men</td>\n",
       "      <td>False</td>\n",
       "      <td>6.5</td>\n",
       "      <td>92.0</td>\n",
       "    </tr>\n",
       "    <tr>\n",
       "      <th>3</th>\n",
       "      <td>False</td>\n",
       "      <td>NaN</td>\n",
       "      <td>16000000</td>\n",
       "      <td>[{'id': 35, 'name': 'Comedy'}, {'id': 18, 'nam...</td>\n",
       "      <td>NaN</td>\n",
       "      <td>31357</td>\n",
       "      <td>tt0114885</td>\n",
       "      <td>en</td>\n",
       "      <td>Waiting to Exhale</td>\n",
       "      <td>Cheated on, mistreated and stepped on, the wom...</td>\n",
       "      <td>...</td>\n",
       "      <td>1995-12-22</td>\n",
       "      <td>81452156.0</td>\n",
       "      <td>127.0</td>\n",
       "      <td>[{'iso_639_1': 'en', 'name': 'English'}]</td>\n",
       "      <td>Released</td>\n",
       "      <td>Friends are the people who let you be yourself...</td>\n",
       "      <td>Waiting to Exhale</td>\n",
       "      <td>False</td>\n",
       "      <td>6.1</td>\n",
       "      <td>34.0</td>\n",
       "    </tr>\n",
       "    <tr>\n",
       "      <th>4</th>\n",
       "      <td>False</td>\n",
       "      <td>{'id': 96871, 'name': 'Father of the Bride Col...</td>\n",
       "      <td>0</td>\n",
       "      <td>[{'id': 35, 'name': 'Comedy'}]</td>\n",
       "      <td>NaN</td>\n",
       "      <td>11862</td>\n",
       "      <td>tt0113041</td>\n",
       "      <td>en</td>\n",
       "      <td>Father of the Bride Part II</td>\n",
       "      <td>Just when George Banks has recovered from his ...</td>\n",
       "      <td>...</td>\n",
       "      <td>1995-02-10</td>\n",
       "      <td>76578911.0</td>\n",
       "      <td>106.0</td>\n",
       "      <td>[{'iso_639_1': 'en', 'name': 'English'}]</td>\n",
       "      <td>Released</td>\n",
       "      <td>Just When His World Is Back To Normal... He's ...</td>\n",
       "      <td>Father of the Bride Part II</td>\n",
       "      <td>False</td>\n",
       "      <td>5.7</td>\n",
       "      <td>173.0</td>\n",
       "    </tr>\n",
       "  </tbody>\n",
       "</table>\n",
       "<p>5 rows × 24 columns</p>\n",
       "</div>"
      ],
      "text/plain": [
       "   adult                              belongs_to_collection    budget  \\\n",
       "0  False  {'id': 10194, 'name': 'Toy Story Collection', ...  30000000   \n",
       "1  False                                                NaN  65000000   \n",
       "2  False  {'id': 119050, 'name': 'Grumpy Old Men Collect...         0   \n",
       "3  False                                                NaN  16000000   \n",
       "4  False  {'id': 96871, 'name': 'Father of the Bride Col...         0   \n",
       "\n",
       "                                              genres  \\\n",
       "0  [{'id': 16, 'name': 'Animation'}, {'id': 35, '...   \n",
       "1  [{'id': 12, 'name': 'Adventure'}, {'id': 14, '...   \n",
       "2  [{'id': 10749, 'name': 'Romance'}, {'id': 35, ...   \n",
       "3  [{'id': 35, 'name': 'Comedy'}, {'id': 18, 'nam...   \n",
       "4                     [{'id': 35, 'name': 'Comedy'}]   \n",
       "\n",
       "                               homepage     id    imdb_id original_language  \\\n",
       "0  http://toystory.disney.com/toy-story    862  tt0114709                en   \n",
       "1                                   NaN   8844  tt0113497                en   \n",
       "2                                   NaN  15602  tt0113228                en   \n",
       "3                                   NaN  31357  tt0114885                en   \n",
       "4                                   NaN  11862  tt0113041                en   \n",
       "\n",
       "                original_title  \\\n",
       "0                    Toy Story   \n",
       "1                      Jumanji   \n",
       "2             Grumpier Old Men   \n",
       "3            Waiting to Exhale   \n",
       "4  Father of the Bride Part II   \n",
       "\n",
       "                                            overview  ... release_date  \\\n",
       "0  Led by Woody, Andy's toys live happily in his ...  ...   1995-10-30   \n",
       "1  When siblings Judy and Peter discover an encha...  ...   1995-12-15   \n",
       "2  A family wedding reignites the ancient feud be...  ...   1995-12-22   \n",
       "3  Cheated on, mistreated and stepped on, the wom...  ...   1995-12-22   \n",
       "4  Just when George Banks has recovered from his ...  ...   1995-02-10   \n",
       "\n",
       "       revenue runtime                                   spoken_languages  \\\n",
       "0  373554033.0    81.0           [{'iso_639_1': 'en', 'name': 'English'}]   \n",
       "1  262797249.0   104.0  [{'iso_639_1': 'en', 'name': 'English'}, {'iso...   \n",
       "2          0.0   101.0           [{'iso_639_1': 'en', 'name': 'English'}]   \n",
       "3   81452156.0   127.0           [{'iso_639_1': 'en', 'name': 'English'}]   \n",
       "4   76578911.0   106.0           [{'iso_639_1': 'en', 'name': 'English'}]   \n",
       "\n",
       "     status                                            tagline  \\\n",
       "0  Released                                                NaN   \n",
       "1  Released          Roll the dice and unleash the excitement!   \n",
       "2  Released  Still Yelling. Still Fighting. Still Ready for...   \n",
       "3  Released  Friends are the people who let you be yourself...   \n",
       "4  Released  Just When His World Is Back To Normal... He's ...   \n",
       "\n",
       "                         title  video vote_average vote_count  \n",
       "0                    Toy Story  False          7.7     5415.0  \n",
       "1                      Jumanji  False          6.9     2413.0  \n",
       "2             Grumpier Old Men  False          6.5       92.0  \n",
       "3            Waiting to Exhale  False          6.1       34.0  \n",
       "4  Father of the Bride Part II  False          5.7      173.0  \n",
       "\n",
       "[5 rows x 24 columns]"
      ]
     },
     "execution_count": 44,
     "metadata": {},
     "output_type": "execute_result"
    }
   ],
   "source": [
    "import pandas as pd\n",
    "\n",
    "# load the movie metadata\n",
    "movies = pd.read_csv(\"data/movies_metadata.csv\", low_memory=False)\n",
    "print(movies.shape)\n",
    "movies.head()\n"
   ]
  },
  {
   "cell_type": "code",
   "execution_count": 45,
   "metadata": {},
   "outputs": [
    {
     "name": "stdout",
     "output_type": "stream",
     "text": [
      "(26024289, 4)\n"
     ]
    },
    {
     "data": {
      "text/html": [
       "<div>\n",
       "<style scoped>\n",
       "    .dataframe tbody tr th:only-of-type {\n",
       "        vertical-align: middle;\n",
       "    }\n",
       "\n",
       "    .dataframe tbody tr th {\n",
       "        vertical-align: top;\n",
       "    }\n",
       "\n",
       "    .dataframe thead th {\n",
       "        text-align: right;\n",
       "    }\n",
       "</style>\n",
       "<table border=\"1\" class=\"dataframe\">\n",
       "  <thead>\n",
       "    <tr style=\"text-align: right;\">\n",
       "      <th></th>\n",
       "      <th>userId</th>\n",
       "      <th>movieId</th>\n",
       "      <th>rating</th>\n",
       "      <th>timestamp</th>\n",
       "    </tr>\n",
       "  </thead>\n",
       "  <tbody>\n",
       "    <tr>\n",
       "      <th>0</th>\n",
       "      <td>1</td>\n",
       "      <td>110</td>\n",
       "      <td>1.0</td>\n",
       "      <td>1425941529</td>\n",
       "    </tr>\n",
       "    <tr>\n",
       "      <th>1</th>\n",
       "      <td>1</td>\n",
       "      <td>147</td>\n",
       "      <td>4.5</td>\n",
       "      <td>1425942435</td>\n",
       "    </tr>\n",
       "    <tr>\n",
       "      <th>2</th>\n",
       "      <td>1</td>\n",
       "      <td>858</td>\n",
       "      <td>5.0</td>\n",
       "      <td>1425941523</td>\n",
       "    </tr>\n",
       "    <tr>\n",
       "      <th>3</th>\n",
       "      <td>1</td>\n",
       "      <td>1221</td>\n",
       "      <td>5.0</td>\n",
       "      <td>1425941546</td>\n",
       "    </tr>\n",
       "    <tr>\n",
       "      <th>4</th>\n",
       "      <td>1</td>\n",
       "      <td>1246</td>\n",
       "      <td>5.0</td>\n",
       "      <td>1425941556</td>\n",
       "    </tr>\n",
       "  </tbody>\n",
       "</table>\n",
       "</div>"
      ],
      "text/plain": [
       "   userId  movieId  rating   timestamp\n",
       "0       1      110     1.0  1425941529\n",
       "1       1      147     4.5  1425942435\n",
       "2       1      858     5.0  1425941523\n",
       "3       1     1221     5.0  1425941546\n",
       "4       1     1246     5.0  1425941556"
      ]
     },
     "execution_count": 45,
     "metadata": {},
     "output_type": "execute_result"
    }
   ],
   "source": [
    "ratings = pd.read_csv(\"data/ratings.csv\")\n",
    "print(ratings.shape)\n",
    "ratings.head()\n"
   ]
  },
  {
   "cell_type": "code",
   "execution_count": 46,
   "metadata": {},
   "outputs": [
    {
     "name": "stdout",
     "output_type": "stream",
     "text": [
      "(46419, 2)\n"
     ]
    },
    {
     "data": {
      "text/html": [
       "<div>\n",
       "<style scoped>\n",
       "    .dataframe tbody tr th:only-of-type {\n",
       "        vertical-align: middle;\n",
       "    }\n",
       "\n",
       "    .dataframe tbody tr th {\n",
       "        vertical-align: top;\n",
       "    }\n",
       "\n",
       "    .dataframe thead th {\n",
       "        text-align: right;\n",
       "    }\n",
       "</style>\n",
       "<table border=\"1\" class=\"dataframe\">\n",
       "  <thead>\n",
       "    <tr style=\"text-align: right;\">\n",
       "      <th></th>\n",
       "      <th>id</th>\n",
       "      <th>keywords</th>\n",
       "    </tr>\n",
       "  </thead>\n",
       "  <tbody>\n",
       "    <tr>\n",
       "      <th>0</th>\n",
       "      <td>862</td>\n",
       "      <td>[{'id': 931, 'name': 'jealousy'}, {'id': 4290,...</td>\n",
       "    </tr>\n",
       "    <tr>\n",
       "      <th>1</th>\n",
       "      <td>8844</td>\n",
       "      <td>[{'id': 10090, 'name': 'board game'}, {'id': 1...</td>\n",
       "    </tr>\n",
       "    <tr>\n",
       "      <th>2</th>\n",
       "      <td>15602</td>\n",
       "      <td>[{'id': 1495, 'name': 'fishing'}, {'id': 12392...</td>\n",
       "    </tr>\n",
       "    <tr>\n",
       "      <th>3</th>\n",
       "      <td>31357</td>\n",
       "      <td>[{'id': 818, 'name': 'based on novel'}, {'id':...</td>\n",
       "    </tr>\n",
       "    <tr>\n",
       "      <th>4</th>\n",
       "      <td>11862</td>\n",
       "      <td>[{'id': 1009, 'name': 'baby'}, {'id': 1599, 'n...</td>\n",
       "    </tr>\n",
       "  </tbody>\n",
       "</table>\n",
       "</div>"
      ],
      "text/plain": [
       "      id                                           keywords\n",
       "0    862  [{'id': 931, 'name': 'jealousy'}, {'id': 4290,...\n",
       "1   8844  [{'id': 10090, 'name': 'board game'}, {'id': 1...\n",
       "2  15602  [{'id': 1495, 'name': 'fishing'}, {'id': 12392...\n",
       "3  31357  [{'id': 818, 'name': 'based on novel'}, {'id':...\n",
       "4  11862  [{'id': 1009, 'name': 'baby'}, {'id': 1599, 'n..."
      ]
     },
     "execution_count": 46,
     "metadata": {},
     "output_type": "execute_result"
    }
   ],
   "source": [
    "keywords = pd.read_csv(\"data/keywords.csv\")\n",
    "print(keywords.shape)\n",
    "keywords.head()\n"
   ]
  },
  {
   "cell_type": "code",
   "execution_count": 43,
   "metadata": {},
   "outputs": [
    {
     "data": {
      "text/plain": [
       "['credits.csv',\n",
       " 'keywords.csv',\n",
       " 'links.csv',\n",
       " 'links_small.csv',\n",
       " 'movies_metadata.csv',\n",
       " 'ratings.csv',\n",
       " 'ratings_small.csv']"
      ]
     },
     "execution_count": 43,
     "metadata": {},
     "output_type": "execute_result"
    }
   ],
   "source": [
    "import os\n",
    "os.listdir(\"data\")\n"
   ]
  },
  {
   "cell_type": "code",
   "execution_count": 47,
   "metadata": {},
   "outputs": [
    {
     "name": "stdout",
     "output_type": "stream",
     "text": [
      "Movies: (45466, 24)\n",
      "Credits: (45476, 3)\n",
      "Keywords: (46419, 2)\n",
      "Ratings: (26024289, 4)\n"
     ]
    }
   ],
   "source": [
    "import pandas as pd\n",
    "\n",
    "# Load metadata files\n",
    "movies = pd.read_csv(\"data/movies_metadata.csv\", low_memory=False)\n",
    "credits = pd.read_csv(\"data/credits.csv\")\n",
    "keywords = pd.read_csv(\"data/keywords.csv\")\n",
    "links = pd.read_csv(\"data/links.csv\")\n",
    "\n",
    "# Load ratings\n",
    "ratings = pd.read_csv(\"data/ratings.csv\")\n",
    "\n",
    "print(\"Movies:\", movies.shape)\n",
    "print(\"Credits:\", credits.shape)\n",
    "print(\"Keywords:\", keywords.shape)\n",
    "print(\"Ratings:\", ratings.shape)\n",
    "print(\"Links:\", links.shape)\n"
   ]
  },
  {
   "cell_type": "code",
   "execution_count": 48,
   "metadata": {},
   "outputs": [
    {
     "name": "stdout",
     "output_type": "stream",
     "text": [
      "C:\\Users\\kazia\\Downloads\\Netflix-movie-recommender\n"
     ]
    }
   ],
   "source": [
    "import os\n",
    "print(os.getcwd())\n"
   ]
  },
  {
   "cell_type": "code",
   "execution_count": 53,
   "metadata": {},
   "outputs": [
    {
     "name": "stdout",
     "output_type": "stream",
     "text": [
      "(45466, 24)\n"
     ]
    }
   ],
   "source": [
    "import pandas as pd\n",
    "df = pd.read_csv(\"movies_metadata.csv\", low_memory=False)\n",
    "print(df.shape)\n",
    "\n",
    "\n"
   ]
  },
  {
   "cell_type": "code",
   "execution_count": 56,
   "metadata": {},
   "outputs": [
    {
     "name": "stdout",
     "output_type": "stream",
     "text": [
      "Movies: (45466, 24)\n",
      "Ratings: (26024289, 4)\n",
      "Credits: (45476, 3)\n",
      "Keywords: (46419, 2)\n",
      "links: (45843, 3)\n"
     ]
    }
   ],
   "source": [
    "import os\n",
    "import pandas as pd\n",
    "\n",
    "BASE_DIR = os.getcwd()   # your project folder\n",
    "\n",
    "# Define file paths\n",
    "movies_file   = os.path.join(BASE_DIR, \"movies_metadata.csv\")\n",
    "ratings_file  = os.path.join(BASE_DIR, \"ratings.csv\")\n",
    "credits_file  = os.path.join(BASE_DIR, \"credits.csv\")\n",
    "keywords_file = os.path.join(BASE_DIR, \"keywords.csv\")\n",
    "links_file    = os.path.join(BASE_DIR, \"links.csv\")\n",
    "\n",
    "# Load datasets\n",
    "movies   = pd.read_csv(movies_file, low_memory=False)\n",
    "ratings  = pd.read_csv(ratings_file)\n",
    "credits  = pd.read_csv(credits_file)\n",
    "keywords = pd.read_csv(keywords_file)\n",
    "links    = pd.read_csv(links_file)\n",
    "\n",
    "# Sanity check\n",
    "print(\"Movies:\", movies.shape)\n",
    "print(\"Ratings:\", ratings.shape)\n",
    "print(\"Credits:\", credits.shape)\n",
    "print(\"Keywords:\", keywords.shape)\n",
    "print(\"links:\", links.shape)\n"
   ]
  },
  {
   "cell_type": "code",
   "execution_count": 54,
   "metadata": {},
   "outputs": [
    {
     "name": "stdout",
     "output_type": "stream",
     "text": [
      "Links: (45843, 3)\n",
      "   movieId  imdbId   tmdbId\n",
      "0        1  114709    862.0\n",
      "1        2  113497   8844.0\n",
      "2        3  113228  15602.0\n",
      "3        4  114885  31357.0\n",
      "4        5  113041  11862.0\n"
     ]
    }
   ],
   "source": [
    "links_file = os.path.join(BASE_DIR, \"links.csv\")\n",
    "links = pd.read_csv(links_file)\n",
    "\n",
    "print(\"Links:\", links.shape)\n",
    "print(links.head())\n"
   ]
  },
  {
   "cell_type": "code",
   "execution_count": null,
   "metadata": {},
   "outputs": [],
   "source": []
  },
  {
   "cell_type": "code",
   "execution_count": null,
   "metadata": {},
   "outputs": [],
   "source": []
  }
 ],
 "metadata": {
  "kernelspec": {
   "display_name": "Python (aznaenv)",
   "language": "python",
   "name": "aznaenv"
  },
  "language_info": {
   "codemirror_mode": {
    "name": "ipython",
    "version": 3
   },
   "file_extension": ".py",
   "mimetype": "text/x-python",
   "name": "python",
   "nbconvert_exporter": "python",
   "pygments_lexer": "ipython3",
   "version": "3.13.5"
  }
 },
 "nbformat": 4,
 "nbformat_minor": 4
}
