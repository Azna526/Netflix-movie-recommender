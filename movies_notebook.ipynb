{
 "cells": [
  {
   "cell_type": "code",
   "execution_count": 1,
   "metadata": {},
   "outputs": [
    {
     "name": "stdout",
     "output_type": "stream",
     "text": [
      "✅ Loaded:\n",
      "movies         (45466, 24)\n",
      "ratings        (26024289, 4)\n",
      "ratings_small  (100004, 4)\n",
      "credits        (45476, 3)\n",
      "keywords       (46419, 2)\n",
      "links          (45843, 3)\n",
      "links_small    (9125, 3)\n"
     ]
    }
   ],
   "source": [
    "import os\n",
    "import pandas as pd\n",
    "\n",
    "BASE_DIR = os.path.dirname(os.path.abspath(\"__file__\"))\n",
    "\n",
    "def pick(*candidates):\n",
    "    for rel in candidates:\n",
    "        p = os.path.join(BASE_DIR, rel)\n",
    "        if os.path.exists(p):\n",
    "            return p\n",
    "    raise FileNotFoundError(candidates)\n",
    "\n",
    "# files\n",
    "MOVIES_FILE       = pick(\"movies_metadata.csv\", \"data/movies_metadata.csv\")\n",
    "RATINGS_FILE      = pick(\"ratings.csv\", \"data/ratings.csv\")\n",
    "RATINGS_SMALL     = pick(\"ratings_small.csv\", \"data/ratings_small.csv\")\n",
    "CREDITS_FILE      = pick(\"credits.csv\", \"data/credits.csv\")\n",
    "KEYWORDS_FILE     = pick(\"keywords.csv\", \"data/keywords.csv\")\n",
    "LINKS_FILE        = pick(\"links.csv\", \"data/links.csv\")\n",
    "LINKS_SMALL       = pick(\"links_small.csv\", \"data/links_small.csv\")\n",
    "\n",
    "# load data\n",
    "movies        = pd.read_csv(MOVIES_FILE, low_memory=False)\n",
    "ratings       = pd.read_csv(RATINGS_FILE)\n",
    "ratings_small = pd.read_csv(RATINGS_SMALL)\n",
    "credits       = pd.read_csv(CREDITS_FILE)\n",
    "keywords      = pd.read_csv(KEYWORDS_FILE)\n",
    "links         = pd.read_csv(LINKS_FILE)\n",
    "links_small   = pd.read_csv(LINKS_SMALL)\n",
    "\n",
    "print(\"✅ Loaded:\")\n",
    "for name, df in [\n",
    "    (\"movies\", movies), (\"ratings\", ratings), (\"ratings_small\", ratings_small),\n",
    "    (\"credits\", credits), (\"keywords\", keywords),\n",
    "    (\"links\", links), (\"links_small\", links_small),\n",
    "]:\n",
    "    print(f\"{name:<14} {df.shape}\")\n"
   ]
  },
  {
   "cell_type": "code",
   "execution_count": 2,
   "metadata": {},
   "outputs": [
    {
     "data": {
      "text/html": [
       "<div>\n",
       "<style scoped>\n",
       "    .dataframe tbody tr th:only-of-type {\n",
       "        vertical-align: middle;\n",
       "    }\n",
       "\n",
       "    .dataframe tbody tr th {\n",
       "        vertical-align: top;\n",
       "    }\n",
       "\n",
       "    .dataframe thead th {\n",
       "        text-align: right;\n",
       "    }\n",
       "</style>\n",
       "<table border=\"1\" class=\"dataframe\">\n",
       "  <thead>\n",
       "    <tr style=\"text-align: right;\">\n",
       "      <th></th>\n",
       "      <th>title</th>\n",
       "      <th>genres_list</th>\n",
       "      <th>keywords_list</th>\n",
       "      <th>tags</th>\n",
       "    </tr>\n",
       "  </thead>\n",
       "  <tbody>\n",
       "    <tr>\n",
       "      <th>0</th>\n",
       "      <td>Toy Story</td>\n",
       "      <td>[Animation, Comedy, Family]</td>\n",
       "      <td>[jealousy, toy, boy, friendship, friends, riva...</td>\n",
       "      <td>Animation Comedy Family jealousy toy boy frien...</td>\n",
       "    </tr>\n",
       "    <tr>\n",
       "      <th>1</th>\n",
       "      <td>Jumanji</td>\n",
       "      <td>[Adventure, Fantasy, Family]</td>\n",
       "      <td>[board game, disappearance, based on children'...</td>\n",
       "      <td>Adventure Fantasy Family boardgame disappearan...</td>\n",
       "    </tr>\n",
       "    <tr>\n",
       "      <th>2</th>\n",
       "      <td>Grumpier Old Men</td>\n",
       "      <td>[Romance, Comedy]</td>\n",
       "      <td>[fishing, best friend, duringcreditsstinger, o...</td>\n",
       "      <td>Romance Comedy fishing bestfriend duringcredit...</td>\n",
       "    </tr>\n",
       "  </tbody>\n",
       "</table>\n",
       "</div>"
      ],
      "text/plain": [
       "              title                   genres_list  \\\n",
       "0         Toy Story   [Animation, Comedy, Family]   \n",
       "1           Jumanji  [Adventure, Fantasy, Family]   \n",
       "2  Grumpier Old Men             [Romance, Comedy]   \n",
       "\n",
       "                                       keywords_list  \\\n",
       "0  [jealousy, toy, boy, friendship, friends, riva...   \n",
       "1  [board game, disappearance, based on children'...   \n",
       "2  [fishing, best friend, duringcreditsstinger, o...   \n",
       "\n",
       "                                                tags  \n",
       "0  Animation Comedy Family jealousy toy boy frien...  \n",
       "1  Adventure Fantasy Family boardgame disappearan...  \n",
       "2  Romance Comedy fishing bestfriend duringcredit...  "
      ]
     },
     "metadata": {},
     "output_type": "display_data"
    }
   ],
   "source": [
    "import re, ast\n",
    "import numpy as np\n",
    "\n",
    "def safe_list_from_jsonlike(val, key=\"name\"):\n",
    "    if pd.isna(val): \n",
    "        return []\n",
    "    if isinstance(val, list):\n",
    "        return [d.get(key, \"\") for d in val if isinstance(d, dict)]\n",
    "    if isinstance(val, str):\n",
    "        try:\n",
    "            data = ast.literal_eval(val)\n",
    "            if isinstance(data, list):\n",
    "                return [d.get(key, \"\") for d in data if isinstance(d, dict)]\n",
    "        except Exception:\n",
    "            pass\n",
    "    return []\n",
    "\n",
    "def normalize(s):\n",
    "    s = (s or \"\").lower()\n",
    "    s = re.sub(r\"[^a-z0-9]+\", \" \", s)\n",
    "    return re.sub(r\"\\s+\", \" \", s).strip()\n",
    "\n",
    "# fix IDs\n",
    "movies[\"id\"] = movies[\"id\"].astype(str)\n",
    "keywords[\"id\"] = keywords[\"id\"].astype(str)\n",
    "\n",
    "# merge keywords\n",
    "if \"id\" in keywords.columns and \"keywords\" in keywords.columns:\n",
    "    movies = movies.merge(keywords[[\"id\", \"keywords\"]], on=\"id\", how=\"left\")\n",
    "\n",
    "# build lists\n",
    "movies[\"genres_list\"]   = movies[\"genres\"].apply(safe_list_from_jsonlike) if \"genres\" in movies else [[]]*len(movies)\n",
    "movies[\"keywords_list\"] = movies[\"keywords\"].apply(safe_list_from_jsonlike) if \"keywords\" in movies else [[]]*len(movies)\n",
    "\n",
    "# build strings\n",
    "movies[\"genres_str\"]   = movies[\"genres_list\"].apply(lambda xs: \" \".join(x.replace(\" \", \"\") for x in xs))\n",
    "movies[\"keywords_str\"] = movies[\"keywords_list\"].apply(lambda xs: \" \".join(x.replace(\" \", \"\") for x in xs))\n",
    "movies[\"overview_str\"] = movies.get(\"overview\", \"\").astype(str).map(normalize)\n",
    "\n",
    "# final tags\n",
    "movies[\"tags\"] = (movies[\"genres_str\"] + \" \" + movies[\"keywords_str\"] + \" \" + movies[\"overview_str\"]).str.strip()\n",
    "movies[\"Tags\"] = movies[\"tags\"]\n",
    "\n",
    "display(movies[[\"title\", \"genres_list\", \"keywords_list\", \"tags\"]].head(3))\n"
   ]
  },
  {
   "cell_type": "code",
   "execution_count": 3,
   "metadata": {},
   "outputs": [
    {
     "name": "stdout",
     "output_type": "stream",
     "text": [
      "📂 Loaded existing similarity.pkl: (10000, 10000)\n",
      "movies: (46486, 32) | similarity: (10000, 10000)\n"
     ]
    }
   ],
   "source": [
    "from sklearn.feature_extraction.text import CountVectorizer\n",
    "from sklearn.metrics.pairwise import cosine_similarity\n",
    "import pickle\n",
    "\n",
    "SIMILARITY_PICKLE = \"similarity.pkl\"\n",
    "\n",
    "if os.path.exists(SIMILARITY_PICKLE):\n",
    "    with open(SIMILARITY_PICKLE, \"rb\") as f:\n",
    "        similarity = pickle.load(f)\n",
    "    print(\"📂 Loaded existing similarity.pkl:\", similarity.shape)\n",
    "else:\n",
    "    cv = CountVectorizer(max_features=5000, stop_words=\"english\")\n",
    "    vectors = cv.fit_transform(movies[\"tags\"])\n",
    "    similarity = cosine_similarity(vectors).astype(\"float16\")\n",
    "    with open(SIMILARITY_PICKLE, \"wb\") as f:\n",
    "        pickle.dump(similarity, f)\n",
    "    print(\"💾 Computed and saved similarity.pkl:\", similarity.shape)\n",
    "\n",
    "print(\"movies:\", movies.shape, \"| similarity:\", similarity.shape)\n"
   ]
  },
  {
   "cell_type": "code",
   "execution_count": 4,
   "metadata": {},
   "outputs": [
    {
     "data": {
      "text/plain": [
       "'⚠️ Movie index 14581 is out of range for similarity matrix of size 10000.'"
      ]
     },
     "execution_count": 4,
     "metadata": {},
     "output_type": "execute_result"
    }
   ],
   "source": [
    "def recommend(title, n=10, data=movies, sim=similarity):\n",
    "    if \"original_title\" in data.columns:\n",
    "        title_col = \"original_title\"\n",
    "    elif \"title\" in data.columns:\n",
    "        title_col = \"title\"\n",
    "    else:\n",
    "        raise ValueError(\"No title column found.\")\n",
    "\n",
    "    matches = data[data[title_col].str.lower() == title.lower()]\n",
    "    if matches.empty:\n",
    "        return f\"❌ '{title}' not found.\"\n",
    "\n",
    "    idx = matches.index[0]\n",
    "    if idx >= sim.shape[0]:\n",
    "        return f\"⚠️ Movie index {idx} is out of range for similarity matrix of size {sim.shape[0]}.\"\n",
    "\n",
    "    distances = list(enumerate(sim[idx]))\n",
    "    distances = sorted(distances, key=lambda x: x[1], reverse=True)[1:n+1]\n",
    "\n",
    "    rec_idxs = [i for i, _ in distances]\n",
    "    cols = [c for c in [title_col, \"release_date\", \"vote_average\"] if c in data.columns]\n",
    "\n",
    "    return data.loc[rec_idxs, cols].reset_index(drop=True)\n",
    "\n",
    "# test\n",
    "recommend(\"Avatar\", 5)\n"
   ]
  },
  {
   "cell_type": "code",
   "execution_count": 8,
   "metadata": {},
   "outputs": [
    {
     "name": "stdout",
     "output_type": "stream",
     "text": [
      "<class 'pandas.core.frame.DataFrame'>\n",
      "RangeIndex: 45466 entries, 0 to 45465\n",
      "Data columns (total 24 columns):\n",
      " #   Column                 Non-Null Count  Dtype  \n",
      "---  ------                 --------------  -----  \n",
      " 0   adult                  45466 non-null  object \n",
      " 1   belongs_to_collection  4494 non-null   object \n",
      " 2   budget                 45466 non-null  object \n",
      " 3   genres                 45466 non-null  object \n",
      " 4   homepage               7782 non-null   object \n",
      " 5   id                     45466 non-null  object \n",
      " 6   imdb_id                45449 non-null  object \n",
      " 7   original_language      45455 non-null  object \n",
      " 8   original_title         45466 non-null  object \n",
      " 9   overview               44512 non-null  object \n",
      " 10  popularity             45461 non-null  object \n",
      " 11  poster_path            45080 non-null  object \n",
      " 12  production_companies   45463 non-null  object \n",
      " 13  production_countries   45463 non-null  object \n",
      " 14  release_date           45379 non-null  object \n",
      " 15  revenue                45460 non-null  float64\n",
      " 16  runtime                45203 non-null  float64\n",
      " 17  spoken_languages       45460 non-null  object \n",
      " 18  status                 45379 non-null  object \n",
      " 19  tagline                20412 non-null  object \n",
      " 20  title                  45460 non-null  object \n",
      " 21  video                  45460 non-null  object \n",
      " 22  vote_average           45460 non-null  float64\n",
      " 23  vote_count             45460 non-null  float64\n",
      "dtypes: float64(4), object(20)\n",
      "memory usage: 8.3+ MB\n"
     ]
    }
   ],
   "source": [
    "movies.info()"
   ]
  },
  {
   "cell_type": "code",
   "execution_count": 9,
   "metadata": {},
   "outputs": [
    {
     "data": {
      "text/plain": [
       "Index(['adult', 'belongs_to_collection', 'budget', 'genres', 'homepage', 'id',\n",
       "       'imdb_id', 'original_language', 'original_title', 'overview',\n",
       "       'popularity', 'poster_path', 'production_companies',\n",
       "       'production_countries', 'release_date', 'revenue', 'runtime',\n",
       "       'spoken_languages', 'status', 'tagline', 'title', 'video',\n",
       "       'vote_average', 'vote_count'],\n",
       "      dtype='object')"
      ]
     },
     "execution_count": 9,
     "metadata": {},
     "output_type": "execute_result"
    }
   ],
   "source": [
    "movies.columns"
   ]
  },
  {
   "cell_type": "code",
   "execution_count": 14,
   "metadata": {},
   "outputs": [
    {
     "name": "stdout",
     "output_type": "stream",
     "text": [
      "<class 'pandas.core.frame.DataFrame'>\n",
      "RangeIndex: 10000 entries, 0 to 9999\n",
      "Data columns (total 25 columns):\n",
      " #   Column                 Non-Null Count  Dtype  \n",
      "---  ------                 --------------  -----  \n",
      " 0   adult                  10000 non-null  object \n",
      " 1   belongs_to_collection  1421 non-null   object \n",
      " 2   budget                 10000 non-null  object \n",
      " 3   genres                 10000 non-null  object \n",
      " 4   homepage               662 non-null    object \n",
      " 5   id                     10000 non-null  object \n",
      " 6   imdb_id                9999 non-null   object \n",
      " 7   original_language      10000 non-null  object \n",
      " 8   original_title         10000 non-null  object \n",
      " 9   overview               9971 non-null   object \n",
      " 10  popularity             10000 non-null  object \n",
      " 11  poster_path            9969 non-null   object \n",
      " 12  production_companies   10000 non-null  object \n",
      " 13  production_countries   10000 non-null  object \n",
      " 14  release_date           9995 non-null   object \n",
      " 15  revenue                10000 non-null  float64\n",
      " 16  runtime                9994 non-null   float64\n",
      " 17  spoken_languages       10000 non-null  object \n",
      " 18  status                 9992 non-null   object \n",
      " 19  tagline                6892 non-null   object \n",
      " 20  title                  10000 non-null  object \n",
      " 21  video                  10000 non-null  object \n",
      " 22  vote_average           10000 non-null  float64\n",
      " 23  vote_count             10000 non-null  float64\n",
      " 24  genres_str             10000 non-null  object \n",
      "dtypes: float64(4), object(21)\n",
      "memory usage: 1.9+ MB\n"
     ]
    }
   ],
   "source": [
    "movies.info()"
   ]
  },
  {
   "cell_type": "code",
   "execution_count": 15,
   "metadata": {},
   "outputs": [
    {
     "data": {
      "text/plain": [
       "adult                       0\n",
       "belongs_to_collection    8579\n",
       "budget                      0\n",
       "genres                      0\n",
       "homepage                 9338\n",
       "id                          0\n",
       "imdb_id                     1\n",
       "original_language           0\n",
       "original_title              0\n",
       "overview                   29\n",
       "popularity                  0\n",
       "poster_path                31\n",
       "production_companies        0\n",
       "production_countries        0\n",
       "release_date                5\n",
       "revenue                     0\n",
       "runtime                     6\n",
       "spoken_languages            0\n",
       "status                      8\n",
       "tagline                  3108\n",
       "title                       0\n",
       "video                       0\n",
       "vote_average                0\n",
       "vote_count                  0\n",
       "genres_str                  0\n",
       "dtype: int64"
      ]
     },
     "execution_count": 15,
     "metadata": {},
     "output_type": "execute_result"
    }
   ],
   "source": [
    "movies.isna().sum()"
   ]
  },
  {
   "cell_type": "code",
   "execution_count": 16,
   "metadata": {},
   "outputs": [],
   "source": [
    "movies = movies.iloc[movies['overview'].dropna().index]\n"
   ]
  },
  {
   "cell_type": "code",
   "execution_count": 17,
   "metadata": {},
   "outputs": [
    {
     "name": "stderr",
     "output_type": "stream",
     "text": [
      "C:\\Users\\kazia\\AppData\\Local\\Temp\\ipykernel_24836\\1664006635.py:1: FutureWarning: Downcasting object dtype arrays on .fillna, .ffill, .bfill is deprecated and will change in a future version. Call result.infer_objects(copy=False) instead. To opt-in to the future behavior, set `pd.set_option('future.no_silent_downcasting', True)`\n",
      "  movies = movies.fillna(' ')\n"
     ]
    }
   ],
   "source": [
    "movies = movies.fillna(' ')"
   ]
  },
  {
   "cell_type": "code",
   "execution_count": 18,
   "metadata": {},
   "outputs": [],
   "source": [
    "movies['release_date'] = pd.to_datetime(movies['release_date'], errors='coerce')\n"
   ]
  },
  {
   "cell_type": "code",
   "execution_count": 19,
   "metadata": {},
   "outputs": [],
   "source": [
    "movies = movies.sort_values(by=['release_date'], ascending=False)"
   ]
  },
  {
   "cell_type": "code",
   "execution_count": 20,
   "metadata": {},
   "outputs": [],
   "source": [
    "movies = movies.fillna(' ')\n",
    "movies['release_date'] = pd.to_datetime(movies['release_date'], errors='coerce')\n",
    "movies = movies.sort_values(by=['release_date'], ascending=False)\n"
   ]
  },
  {
   "cell_type": "code",
   "execution_count": 21,
   "metadata": {},
   "outputs": [],
   "source": [
    "movies.dropna(inplace=True)"
   ]
  },
  {
   "cell_type": "code",
   "execution_count": 24,
   "metadata": {},
   "outputs": [],
   "source": [
    "movies.reset_index(inplace=True)"
   ]
  },
  {
   "cell_type": "code",
   "execution_count": 26,
   "metadata": {},
   "outputs": [],
   "source": [
    "def lemmatize_sentence(sentence):\n",
    "    lemmatizer = WordNetLemmatizer()\n",
    "    tokens = word_tokenize(sentence)\n",
    "    pos_tags = pos_tag(tokens)\n",
    "\n",
    "    def get_wordnet_pos(tag):\n",
    "        tag_dict = {\"J\": wordnet.ADJ,\n",
    "                    \"N\": wordnet.NOUN,\n",
    "                    \"V\": wordnet.VERB,\n",
    "                    \"R\": wordnet.ADV}\n",
    "        return tag_dict.get(tag[0].upper(), wordnet.NOUN)\n",
    "\n",
    "    return \" \".join([lemmatizer.lemmatize(word, get_wordnet_pos(pos)) for word, pos in pos_tags])\n"
   ]
  },
  {
   "cell_type": "code",
   "execution_count": 27,
   "metadata": {},
   "outputs": [
    {
     "name": "stdout",
     "output_type": "stream",
     "text": [
      "Index(['index', 'adult', 'belongs_to_collection', 'budget', 'genres',\n",
      "       'homepage', 'id', 'imdb_id', 'original_language', 'original_title',\n",
      "       'overview', 'popularity', 'poster_path', 'production_companies',\n",
      "       'production_countries', 'release_date', 'revenue', 'runtime',\n",
      "       'spoken_languages', 'status', 'tagline', 'title', 'video',\n",
      "       'vote_average', 'vote_count', 'genres_list', 'genres_str', 'Tags'],\n",
      "      dtype='object')\n"
     ]
    }
   ],
   "source": [
    "print(movies.columns)"
   ]
  },
  {
   "cell_type": "code",
   "execution_count": 28,
   "metadata": {},
   "outputs": [
    {
     "name": "stdout",
     "output_type": "stream",
     "text": [
      "Index(['index', 'adult', 'belongs_to_collection', 'budget', 'genres',\n",
      "       'homepage', 'id', 'imdb_id', 'original_language', 'original_title',\n",
      "       'overview', 'popularity', 'poster_path', 'production_companies',\n",
      "       'production_countries', 'release_date', 'revenue', 'runtime',\n",
      "       'spoken_languages', 'status', 'tagline', 'title', 'video',\n",
      "       'vote_average', 'vote_count', 'genres_list', 'genres_str', 'tags'],\n",
      "      dtype='object')\n"
     ]
    }
   ],
   "source": [
    "movies.columns = movies.columns.str.lower().str.strip()\n",
    "print(movies.columns)\n"
   ]
  },
  {
   "cell_type": "code",
   "execution_count": 29,
   "metadata": {},
   "outputs": [],
   "source": [
    "from nltk.corpus import wordnet\n",
    "from nltk.stem import WordNetLemmatizer\n",
    "from nltk import pos_tag, word_tokenize\n",
    "movies['tags_'] = movies['overview'].astype(str).fillna(\"\").apply(lemmatize_sentence)"
   ]
  },
  {
   "cell_type": "code",
   "execution_count": 32,
   "metadata": {},
   "outputs": [
    {
     "name": "stdout",
     "output_type": "stream",
     "text": [
      "Vectors shape: (10000, 5000)\n",
      "Similarity shape: (10000, 10000)\n"
     ]
    }
   ],
   "source": [
    "# Step 1: Import everything you need\n",
    "from sklearn.feature_extraction.text import CountVectorizer\n",
    "from sklearn.metrics.pairwise import cosine_similarity\n",
    "\n",
    "# Step 2: Vectorize your movie tags column\n",
    "vectorizer = CountVectorizer(max_features=5000, stop_words='english')\n",
    "vectors = vectorizer.fit_transform(movies['tags']).toarray()  # now 'vectors' exists\n",
    "\n",
    "# Step 3: Build similarity matrix\n",
    "similarity = cosine_similarity(vectors)\n",
    "\n",
    "print(\"Vectors shape:\", vectors.shape)\n",
    "print(\"Similarity shape:\", similarity.shape)\n"
   ]
  },
  {
   "cell_type": "code",
   "execution_count": 33,
   "metadata": {},
   "outputs": [],
   "source": [
    "similarity = cosine_similarity(vectors) "
   ]
  },
  {
   "cell_type": "code",
   "execution_count": 34,
   "metadata": {},
   "outputs": [
    {
     "data": {
      "text/plain": [
       "(10000, 10000)"
      ]
     },
     "execution_count": 34,
     "metadata": {},
     "output_type": "execute_result"
    }
   ],
   "source": [
    "similarity.shape"
   ]
  },
  {
   "cell_type": "code",
   "execution_count": 35,
   "metadata": {},
   "outputs": [
    {
     "data": {
      "text/plain": [
       "\"❌ 'Avatar' not found.\""
      ]
     },
     "execution_count": 35,
     "metadata": {},
     "output_type": "execute_result"
    }
   ],
   "source": [
    "def recommend(title, n=10, data=movies, sim=similarity):\n",
    "    \"\"\"\n",
    "    Recommend top-n similar movies given a title.\n",
    "    \"\"\"\n",
    "    # choose title column\n",
    "    if \"original_title\" in data.columns:\n",
    "        title_col = \"original_title\"\n",
    "    elif \"title\" in data.columns:\n",
    "        title_col = \"title\"\n",
    "    else:\n",
    "        raise ValueError(\"No title column found.\")\n",
    "\n",
    "    # case-insensitive search\n",
    "    matches = data[data[title_col].str.lower() == title.lower()]\n",
    "    if matches.empty:\n",
    "        return f\"❌ '{title}' not found.\"\n",
    "\n",
    "    idx = matches.index[0]\n",
    "\n",
    "    # get distances\n",
    "    distances = list(enumerate(sim[idx]))\n",
    "    distances = sorted(distances, key=lambda x: x[1], reverse=True)[1 : n + 1]\n",
    "\n",
    "    rec_idxs = [i for i, _ in distances]\n",
    "    cols = [c for c in [title_col, \"release_date\", \"vote_average\"] if c in data.columns]\n",
    "\n",
    "    return data.loc[rec_idxs, cols].reset_index(drop=True)\n",
    "\n",
    "# 🔍 example\n",
    "recommend(\"Avatar\", 5)\n"
   ]
  },
  {
   "cell_type": "code",
   "execution_count": 36,
   "metadata": {},
   "outputs": [
    {
     "data": {
      "text/plain": [
       "array(['Avatar 2', 'The Other Side of the Wind', 'Bad Boys for Life',\n",
       "       'Mary Shelley', 'Mobile Homes', 'Iron Sky: The Coming Race',\n",
       "       'Sly Cooper', \"The King's Daughter\",\n",
       "       'How to Talk to Girls at Parties', 'Pitch Perfect 3', 'Machines',\n",
       "       'Sweet Virginia', 'Justice League', '78/52',\n",
       "       'Call Me by Your Name', 'Thor: Ragnarok', 'Dina', 'Beyond Skyline',\n",
       "       'Resurrecting Hassan', 'Leatherface', 'Porto', \"God's Own Country\",\n",
       "       'Science Fiction Volume One: The Osiris Child',\n",
       "       'The Trip to Spain', 'LEGO DC Super Hero Girls: Brain Drain',\n",
       "       'Patti Cake$', 'What Happened to Monday', 'Ingrid Goes West',\n",
       "       'Good Time', 'The Glass Castle', 'A Gray State', 'Kidnap',\n",
       "       'Chronically Metropolitan', 'Columbus', 'The Dark Tower',\n",
       "       'London Town', 'Wind River', 'Hostages',\n",
       "       'Cop and a Half: New Recruit', 'S.W.A.T.: Under Siege',\n",
       "       '東京喰種 トーキョーグール', 'Detroit', 'The Emoji Movie',\n",
       "       'An Inconvenient Sequel: Truth to Power',\n",
       "       'Lauri Mäntyvaaran tuuheet ripset', 'The Son of Bigfoot',\n",
       "       'Brigsby Bear', 'Atomic Blonde', 'First Kill',\n",
       "       'The Gracefield Incident', 'Landline', 'Descendants 2',\n",
       "       'Girls Trip', 'Valerian and the City of a Thousand Planets',\n",
       "       'Dunkirk', 'Feed', 'City of Ghosts', 'Shot Caller', 'Блокбастер',\n",
       "       'Zygote', 'The Nile Hilton Incident',\n",
       "       'War for the Planet of the Apes', 'The Saint', 'Tour de Pharmacy',\n",
       "       'Maa', 'A Ghost Story', 'Do You Take This Man', 'Hickok',\n",
       "       \"Tommy's Honour\", 'Wish Upon', 'Stratton', 'Soundtrack', 'Revolt',\n",
       "       'The Little Hours', 'Amityville: The Awakening', 'Inconceivable',\n",
       "       'Estiu 1993', 'Overdrive', 'The House', '2:22', 'Bedeviled',\n",
       "       'Abduction', 'Baby Driver', 'Firebase',\n",
       "       \"Chris D'Elia: Man on Fire\", 'Edith Walks', 'The Beguiled',\n",
       "       'Tubelight', 'The Big Sick', 'Selfie', 'Hampstead', 'Ripped',\n",
       "       'The Bad Batch', 'Ava', 'Transformers: The Last Knight',\n",
       "       'Rory Scovel Tries Stand-Up for the First Time', 'You Get Me',\n",
       "       'Lou', 'The Book of Henry', 'Cars 3'], dtype=object)"
      ]
     },
     "execution_count": 36,
     "metadata": {},
     "output_type": "execute_result"
    }
   ],
   "source": [
    "movies['original_title'][:100].values\n"
   ]
  },
  {
   "cell_type": "code",
   "execution_count": 37,
   "metadata": {},
   "outputs": [],
   "source": [
    "def recommendation(title, data, similarity=similarity):\n",
    "    try:\n",
    "        # find index of the movie\n",
    "        movie_index = data[data['original_title'].str.lower() == title.lower()].index[0]\n",
    "    except IndexError:\n",
    "        return \"Movie not currently in the database\"\n",
    "    \n",
    "    # get similarity scores\n",
    "    distances = list(enumerate(similarity[movie_index]))\n",
    "    distances = sorted(distances, key=lambda x: x[1], reverse=True)[1:6]\n",
    "    \n",
    "    # return top 5 similar movies\n",
    "    return data['original_title'].iloc[[i[0] for i in distances]].tolist()\n"
   ]
  },
  {
   "cell_type": "code",
   "execution_count": 38,
   "metadata": {},
   "outputs": [
    {
     "data": {
      "text/plain": [
       "'Movie not currently in the database'"
      ]
     },
     "execution_count": 38,
     "metadata": {},
     "output_type": "execute_result"
    }
   ],
   "source": [
    "recommendation(\"Jumanji\", data=movies)"
   ]
  },
  {
   "cell_type": "code",
   "execution_count": 39,
   "metadata": {},
   "outputs": [
    {
     "data": {
      "text/plain": [
       "'Movie not currently in the database'"
      ]
     },
     "execution_count": 39,
     "metadata": {},
     "output_type": "execute_result"
    }
   ],
   "source": [
    "recommendation(\"Copycat\", data=movies)"
   ]
  },
  {
   "cell_type": "code",
   "execution_count": 40,
   "metadata": {},
   "outputs": [],
   "source": [
    "movies.to_csv('data.csv', index=False)"
   ]
  },
  {
   "cell_type": "code",
   "execution_count": 41,
   "metadata": {},
   "outputs": [],
   "source": [
    "import pickle\n",
    "pickle.dump(similarity, open('similarity.pkl','wb'))"
   ]
  },
  {
   "cell_type": "code",
   "execution_count": 42,
   "metadata": {},
   "outputs": [],
   "source": [
    "import nltk\n",
    "nltk.data.path.append(r\"C:\\Users\\kazia\\AppData\\Roaming\\nltk_data\")\n",
    "\n"
   ]
  },
  {
   "cell_type": "code",
   "execution_count": 43,
   "metadata": {},
   "outputs": [
    {
     "data": {
      "text/plain": [
       "['.ipynb_checkpoints',\n",
       " 'credits.csv',\n",
       " 'keywords.csv',\n",
       " 'links.csv',\n",
       " 'links_small.csv',\n",
       " 'movies_metadata.csv',\n",
       " 'ratings.csv',\n",
       " 'ratings_small.csv']"
      ]
     },
     "execution_count": 43,
     "metadata": {},
     "output_type": "execute_result"
    }
   ],
   "source": [
    "import os\n",
    "os.listdir(\"data\")\n",
    "\n"
   ]
  },
  {
   "cell_type": "code",
   "execution_count": 44,
   "metadata": {},
   "outputs": [
    {
     "name": "stdout",
     "output_type": "stream",
     "text": [
      "(45466, 24) (45476, 3) (46419, 2) (26024289, 4)\n"
     ]
    }
   ],
   "source": [
    "import pandas as pd\n",
    "\n",
    "# Load the available CSV files\n",
    "movies = pd.read_csv(\"data/movies_metadata.csv\", low_memory=False)\n",
    "credits = pd.read_csv(\"data/credits.csv\")\n",
    "keywords = pd.read_csv(\"data/keywords.csv\")\n",
    "ratings = pd.read_csv(\"data/ratings.csv\")\n",
    "\n",
    "print(movies.shape, credits.shape, keywords.shape, ratings.shape)"
   ]
  },
  {
   "cell_type": "code",
   "execution_count": 45,
   "metadata": {},
   "outputs": [
    {
     "name": "stdout",
     "output_type": "stream",
     "text": [
      "(45466, 24)\n"
     ]
    },
    {
     "data": {
      "text/html": [
       "<div>\n",
       "<style scoped>\n",
       "    .dataframe tbody tr th:only-of-type {\n",
       "        vertical-align: middle;\n",
       "    }\n",
       "\n",
       "    .dataframe tbody tr th {\n",
       "        vertical-align: top;\n",
       "    }\n",
       "\n",
       "    .dataframe thead th {\n",
       "        text-align: right;\n",
       "    }\n",
       "</style>\n",
       "<table border=\"1\" class=\"dataframe\">\n",
       "  <thead>\n",
       "    <tr style=\"text-align: right;\">\n",
       "      <th></th>\n",
       "      <th>adult</th>\n",
       "      <th>belongs_to_collection</th>\n",
       "      <th>budget</th>\n",
       "      <th>genres</th>\n",
       "      <th>homepage</th>\n",
       "      <th>id</th>\n",
       "      <th>imdb_id</th>\n",
       "      <th>original_language</th>\n",
       "      <th>original_title</th>\n",
       "      <th>overview</th>\n",
       "      <th>...</th>\n",
       "      <th>release_date</th>\n",
       "      <th>revenue</th>\n",
       "      <th>runtime</th>\n",
       "      <th>spoken_languages</th>\n",
       "      <th>status</th>\n",
       "      <th>tagline</th>\n",
       "      <th>title</th>\n",
       "      <th>video</th>\n",
       "      <th>vote_average</th>\n",
       "      <th>vote_count</th>\n",
       "    </tr>\n",
       "  </thead>\n",
       "  <tbody>\n",
       "    <tr>\n",
       "      <th>0</th>\n",
       "      <td>False</td>\n",
       "      <td>{'id': 10194, 'name': 'Toy Story Collection', ...</td>\n",
       "      <td>30000000</td>\n",
       "      <td>[{'id': 16, 'name': 'Animation'}, {'id': 35, '...</td>\n",
       "      <td>http://toystory.disney.com/toy-story</td>\n",
       "      <td>862</td>\n",
       "      <td>tt0114709</td>\n",
       "      <td>en</td>\n",
       "      <td>Toy Story</td>\n",
       "      <td>Led by Woody, Andy's toys live happily in his ...</td>\n",
       "      <td>...</td>\n",
       "      <td>1995-10-30</td>\n",
       "      <td>373554033.0</td>\n",
       "      <td>81.0</td>\n",
       "      <td>[{'iso_639_1': 'en', 'name': 'English'}]</td>\n",
       "      <td>Released</td>\n",
       "      <td>NaN</td>\n",
       "      <td>Toy Story</td>\n",
       "      <td>False</td>\n",
       "      <td>7.7</td>\n",
       "      <td>5415.0</td>\n",
       "    </tr>\n",
       "    <tr>\n",
       "      <th>1</th>\n",
       "      <td>False</td>\n",
       "      <td>NaN</td>\n",
       "      <td>65000000</td>\n",
       "      <td>[{'id': 12, 'name': 'Adventure'}, {'id': 14, '...</td>\n",
       "      <td>NaN</td>\n",
       "      <td>8844</td>\n",
       "      <td>tt0113497</td>\n",
       "      <td>en</td>\n",
       "      <td>Jumanji</td>\n",
       "      <td>When siblings Judy and Peter discover an encha...</td>\n",
       "      <td>...</td>\n",
       "      <td>1995-12-15</td>\n",
       "      <td>262797249.0</td>\n",
       "      <td>104.0</td>\n",
       "      <td>[{'iso_639_1': 'en', 'name': 'English'}, {'iso...</td>\n",
       "      <td>Released</td>\n",
       "      <td>Roll the dice and unleash the excitement!</td>\n",
       "      <td>Jumanji</td>\n",
       "      <td>False</td>\n",
       "      <td>6.9</td>\n",
       "      <td>2413.0</td>\n",
       "    </tr>\n",
       "    <tr>\n",
       "      <th>2</th>\n",
       "      <td>False</td>\n",
       "      <td>{'id': 119050, 'name': 'Grumpy Old Men Collect...</td>\n",
       "      <td>0</td>\n",
       "      <td>[{'id': 10749, 'name': 'Romance'}, {'id': 35, ...</td>\n",
       "      <td>NaN</td>\n",
       "      <td>15602</td>\n",
       "      <td>tt0113228</td>\n",
       "      <td>en</td>\n",
       "      <td>Grumpier Old Men</td>\n",
       "      <td>A family wedding reignites the ancient feud be...</td>\n",
       "      <td>...</td>\n",
       "      <td>1995-12-22</td>\n",
       "      <td>0.0</td>\n",
       "      <td>101.0</td>\n",
       "      <td>[{'iso_639_1': 'en', 'name': 'English'}]</td>\n",
       "      <td>Released</td>\n",
       "      <td>Still Yelling. Still Fighting. Still Ready for...</td>\n",
       "      <td>Grumpier Old Men</td>\n",
       "      <td>False</td>\n",
       "      <td>6.5</td>\n",
       "      <td>92.0</td>\n",
       "    </tr>\n",
       "    <tr>\n",
       "      <th>3</th>\n",
       "      <td>False</td>\n",
       "      <td>NaN</td>\n",
       "      <td>16000000</td>\n",
       "      <td>[{'id': 35, 'name': 'Comedy'}, {'id': 18, 'nam...</td>\n",
       "      <td>NaN</td>\n",
       "      <td>31357</td>\n",
       "      <td>tt0114885</td>\n",
       "      <td>en</td>\n",
       "      <td>Waiting to Exhale</td>\n",
       "      <td>Cheated on, mistreated and stepped on, the wom...</td>\n",
       "      <td>...</td>\n",
       "      <td>1995-12-22</td>\n",
       "      <td>81452156.0</td>\n",
       "      <td>127.0</td>\n",
       "      <td>[{'iso_639_1': 'en', 'name': 'English'}]</td>\n",
       "      <td>Released</td>\n",
       "      <td>Friends are the people who let you be yourself...</td>\n",
       "      <td>Waiting to Exhale</td>\n",
       "      <td>False</td>\n",
       "      <td>6.1</td>\n",
       "      <td>34.0</td>\n",
       "    </tr>\n",
       "    <tr>\n",
       "      <th>4</th>\n",
       "      <td>False</td>\n",
       "      <td>{'id': 96871, 'name': 'Father of the Bride Col...</td>\n",
       "      <td>0</td>\n",
       "      <td>[{'id': 35, 'name': 'Comedy'}]</td>\n",
       "      <td>NaN</td>\n",
       "      <td>11862</td>\n",
       "      <td>tt0113041</td>\n",
       "      <td>en</td>\n",
       "      <td>Father of the Bride Part II</td>\n",
       "      <td>Just when George Banks has recovered from his ...</td>\n",
       "      <td>...</td>\n",
       "      <td>1995-02-10</td>\n",
       "      <td>76578911.0</td>\n",
       "      <td>106.0</td>\n",
       "      <td>[{'iso_639_1': 'en', 'name': 'English'}]</td>\n",
       "      <td>Released</td>\n",
       "      <td>Just When His World Is Back To Normal... He's ...</td>\n",
       "      <td>Father of the Bride Part II</td>\n",
       "      <td>False</td>\n",
       "      <td>5.7</td>\n",
       "      <td>173.0</td>\n",
       "    </tr>\n",
       "  </tbody>\n",
       "</table>\n",
       "<p>5 rows × 24 columns</p>\n",
       "</div>"
      ],
      "text/plain": [
       "   adult                              belongs_to_collection    budget  \\\n",
       "0  False  {'id': 10194, 'name': 'Toy Story Collection', ...  30000000   \n",
       "1  False                                                NaN  65000000   \n",
       "2  False  {'id': 119050, 'name': 'Grumpy Old Men Collect...         0   \n",
       "3  False                                                NaN  16000000   \n",
       "4  False  {'id': 96871, 'name': 'Father of the Bride Col...         0   \n",
       "\n",
       "                                              genres  \\\n",
       "0  [{'id': 16, 'name': 'Animation'}, {'id': 35, '...   \n",
       "1  [{'id': 12, 'name': 'Adventure'}, {'id': 14, '...   \n",
       "2  [{'id': 10749, 'name': 'Romance'}, {'id': 35, ...   \n",
       "3  [{'id': 35, 'name': 'Comedy'}, {'id': 18, 'nam...   \n",
       "4                     [{'id': 35, 'name': 'Comedy'}]   \n",
       "\n",
       "                               homepage     id    imdb_id original_language  \\\n",
       "0  http://toystory.disney.com/toy-story    862  tt0114709                en   \n",
       "1                                   NaN   8844  tt0113497                en   \n",
       "2                                   NaN  15602  tt0113228                en   \n",
       "3                                   NaN  31357  tt0114885                en   \n",
       "4                                   NaN  11862  tt0113041                en   \n",
       "\n",
       "                original_title  \\\n",
       "0                    Toy Story   \n",
       "1                      Jumanji   \n",
       "2             Grumpier Old Men   \n",
       "3            Waiting to Exhale   \n",
       "4  Father of the Bride Part II   \n",
       "\n",
       "                                            overview  ... release_date  \\\n",
       "0  Led by Woody, Andy's toys live happily in his ...  ...   1995-10-30   \n",
       "1  When siblings Judy and Peter discover an encha...  ...   1995-12-15   \n",
       "2  A family wedding reignites the ancient feud be...  ...   1995-12-22   \n",
       "3  Cheated on, mistreated and stepped on, the wom...  ...   1995-12-22   \n",
       "4  Just when George Banks has recovered from his ...  ...   1995-02-10   \n",
       "\n",
       "       revenue runtime                                   spoken_languages  \\\n",
       "0  373554033.0    81.0           [{'iso_639_1': 'en', 'name': 'English'}]   \n",
       "1  262797249.0   104.0  [{'iso_639_1': 'en', 'name': 'English'}, {'iso...   \n",
       "2          0.0   101.0           [{'iso_639_1': 'en', 'name': 'English'}]   \n",
       "3   81452156.0   127.0           [{'iso_639_1': 'en', 'name': 'English'}]   \n",
       "4   76578911.0   106.0           [{'iso_639_1': 'en', 'name': 'English'}]   \n",
       "\n",
       "     status                                            tagline  \\\n",
       "0  Released                                                NaN   \n",
       "1  Released          Roll the dice and unleash the excitement!   \n",
       "2  Released  Still Yelling. Still Fighting. Still Ready for...   \n",
       "3  Released  Friends are the people who let you be yourself...   \n",
       "4  Released  Just When His World Is Back To Normal... He's ...   \n",
       "\n",
       "                         title  video vote_average vote_count  \n",
       "0                    Toy Story  False          7.7     5415.0  \n",
       "1                      Jumanji  False          6.9     2413.0  \n",
       "2             Grumpier Old Men  False          6.5       92.0  \n",
       "3            Waiting to Exhale  False          6.1       34.0  \n",
       "4  Father of the Bride Part II  False          5.7      173.0  \n",
       "\n",
       "[5 rows x 24 columns]"
      ]
     },
     "execution_count": 45,
     "metadata": {},
     "output_type": "execute_result"
    }
   ],
   "source": [
    "import pandas as pd\n",
    "\n",
    "# load the movie metadata\n",
    "movies = pd.read_csv(\"data/movies_metadata.csv\", low_memory=False)\n",
    "print(movies.shape)\n",
    "movies.head()\n"
   ]
  },
  {
   "cell_type": "code",
   "execution_count": 46,
   "metadata": {},
   "outputs": [
    {
     "name": "stdout",
     "output_type": "stream",
     "text": [
      "(26024289, 4)\n"
     ]
    },
    {
     "data": {
      "text/html": [
       "<div>\n",
       "<style scoped>\n",
       "    .dataframe tbody tr th:only-of-type {\n",
       "        vertical-align: middle;\n",
       "    }\n",
       "\n",
       "    .dataframe tbody tr th {\n",
       "        vertical-align: top;\n",
       "    }\n",
       "\n",
       "    .dataframe thead th {\n",
       "        text-align: right;\n",
       "    }\n",
       "</style>\n",
       "<table border=\"1\" class=\"dataframe\">\n",
       "  <thead>\n",
       "    <tr style=\"text-align: right;\">\n",
       "      <th></th>\n",
       "      <th>userId</th>\n",
       "      <th>movieId</th>\n",
       "      <th>rating</th>\n",
       "      <th>timestamp</th>\n",
       "    </tr>\n",
       "  </thead>\n",
       "  <tbody>\n",
       "    <tr>\n",
       "      <th>0</th>\n",
       "      <td>1</td>\n",
       "      <td>110</td>\n",
       "      <td>1.0</td>\n",
       "      <td>1425941529</td>\n",
       "    </tr>\n",
       "    <tr>\n",
       "      <th>1</th>\n",
       "      <td>1</td>\n",
       "      <td>147</td>\n",
       "      <td>4.5</td>\n",
       "      <td>1425942435</td>\n",
       "    </tr>\n",
       "    <tr>\n",
       "      <th>2</th>\n",
       "      <td>1</td>\n",
       "      <td>858</td>\n",
       "      <td>5.0</td>\n",
       "      <td>1425941523</td>\n",
       "    </tr>\n",
       "    <tr>\n",
       "      <th>3</th>\n",
       "      <td>1</td>\n",
       "      <td>1221</td>\n",
       "      <td>5.0</td>\n",
       "      <td>1425941546</td>\n",
       "    </tr>\n",
       "    <tr>\n",
       "      <th>4</th>\n",
       "      <td>1</td>\n",
       "      <td>1246</td>\n",
       "      <td>5.0</td>\n",
       "      <td>1425941556</td>\n",
       "    </tr>\n",
       "  </tbody>\n",
       "</table>\n",
       "</div>"
      ],
      "text/plain": [
       "   userId  movieId  rating   timestamp\n",
       "0       1      110     1.0  1425941529\n",
       "1       1      147     4.5  1425942435\n",
       "2       1      858     5.0  1425941523\n",
       "3       1     1221     5.0  1425941546\n",
       "4       1     1246     5.0  1425941556"
      ]
     },
     "execution_count": 46,
     "metadata": {},
     "output_type": "execute_result"
    }
   ],
   "source": [
    "ratings = pd.read_csv(\"data/ratings.csv\")\n",
    "print(ratings.shape)\n",
    "ratings.head()\n"
   ]
  },
  {
   "cell_type": "code",
   "execution_count": 47,
   "metadata": {},
   "outputs": [
    {
     "name": "stdout",
     "output_type": "stream",
     "text": [
      "(46419, 2)\n"
     ]
    },
    {
     "data": {
      "text/html": [
       "<div>\n",
       "<style scoped>\n",
       "    .dataframe tbody tr th:only-of-type {\n",
       "        vertical-align: middle;\n",
       "    }\n",
       "\n",
       "    .dataframe tbody tr th {\n",
       "        vertical-align: top;\n",
       "    }\n",
       "\n",
       "    .dataframe thead th {\n",
       "        text-align: right;\n",
       "    }\n",
       "</style>\n",
       "<table border=\"1\" class=\"dataframe\">\n",
       "  <thead>\n",
       "    <tr style=\"text-align: right;\">\n",
       "      <th></th>\n",
       "      <th>id</th>\n",
       "      <th>keywords</th>\n",
       "    </tr>\n",
       "  </thead>\n",
       "  <tbody>\n",
       "    <tr>\n",
       "      <th>0</th>\n",
       "      <td>862</td>\n",
       "      <td>[{'id': 931, 'name': 'jealousy'}, {'id': 4290,...</td>\n",
       "    </tr>\n",
       "    <tr>\n",
       "      <th>1</th>\n",
       "      <td>8844</td>\n",
       "      <td>[{'id': 10090, 'name': 'board game'}, {'id': 1...</td>\n",
       "    </tr>\n",
       "    <tr>\n",
       "      <th>2</th>\n",
       "      <td>15602</td>\n",
       "      <td>[{'id': 1495, 'name': 'fishing'}, {'id': 12392...</td>\n",
       "    </tr>\n",
       "    <tr>\n",
       "      <th>3</th>\n",
       "      <td>31357</td>\n",
       "      <td>[{'id': 818, 'name': 'based on novel'}, {'id':...</td>\n",
       "    </tr>\n",
       "    <tr>\n",
       "      <th>4</th>\n",
       "      <td>11862</td>\n",
       "      <td>[{'id': 1009, 'name': 'baby'}, {'id': 1599, 'n...</td>\n",
       "    </tr>\n",
       "  </tbody>\n",
       "</table>\n",
       "</div>"
      ],
      "text/plain": [
       "      id                                           keywords\n",
       "0    862  [{'id': 931, 'name': 'jealousy'}, {'id': 4290,...\n",
       "1   8844  [{'id': 10090, 'name': 'board game'}, {'id': 1...\n",
       "2  15602  [{'id': 1495, 'name': 'fishing'}, {'id': 12392...\n",
       "3  31357  [{'id': 818, 'name': 'based on novel'}, {'id':...\n",
       "4  11862  [{'id': 1009, 'name': 'baby'}, {'id': 1599, 'n..."
      ]
     },
     "execution_count": 47,
     "metadata": {},
     "output_type": "execute_result"
    }
   ],
   "source": [
    "keywords = pd.read_csv(\"data/keywords.csv\")\n",
    "print(keywords.shape)\n",
    "keywords.head()\n"
   ]
  },
  {
   "cell_type": "code",
   "execution_count": 48,
   "metadata": {},
   "outputs": [
    {
     "data": {
      "text/plain": [
       "['.ipynb_checkpoints',\n",
       " 'credits.csv',\n",
       " 'keywords.csv',\n",
       " 'links.csv',\n",
       " 'links_small.csv',\n",
       " 'movies_metadata.csv',\n",
       " 'ratings.csv',\n",
       " 'ratings_small.csv']"
      ]
     },
     "execution_count": 48,
     "metadata": {},
     "output_type": "execute_result"
    }
   ],
   "source": [
    "import os\n",
    "os.listdir(\"data\")\n"
   ]
  },
  {
   "cell_type": "code",
   "execution_count": 49,
   "metadata": {},
   "outputs": [
    {
     "name": "stdout",
     "output_type": "stream",
     "text": [
      "Movies: (45466, 24)\n",
      "Credits: (45476, 3)\n",
      "Keywords: (46419, 2)\n",
      "Ratings: (26024289, 4)\n",
      "Links: (45843, 3)\n"
     ]
    }
   ],
   "source": [
    "import pandas as pd\n",
    "\n",
    "# Load metadata files\n",
    "movies = pd.read_csv(\"data/movies_metadata.csv\", low_memory=False)\n",
    "credits = pd.read_csv(\"data/credits.csv\")\n",
    "keywords = pd.read_csv(\"data/keywords.csv\")\n",
    "links = pd.read_csv(\"data/links.csv\")\n",
    "\n",
    "# Load ratings\n",
    "ratings = pd.read_csv(\"data/ratings.csv\")\n",
    "\n",
    "print(\"Movies:\", movies.shape)\n",
    "print(\"Credits:\", credits.shape)\n",
    "print(\"Keywords:\", keywords.shape)\n",
    "print(\"Ratings:\", ratings.shape)\n",
    "print(\"Links:\", links.shape)\n"
   ]
  },
  {
   "cell_type": "code",
   "execution_count": 50,
   "metadata": {},
   "outputs": [
    {
     "name": "stdout",
     "output_type": "stream",
     "text": [
      "C:\\Users\\kazia\\Downloads\\Netflix-movie-recommender\n"
     ]
    }
   ],
   "source": [
    "import os\n",
    "print(os.getcwd())\n"
   ]
  },
  {
   "cell_type": "code",
   "execution_count": 51,
   "metadata": {},
   "outputs": [
    {
     "name": "stdout",
     "output_type": "stream",
     "text": [
      "(45466, 24)\n"
     ]
    }
   ],
   "source": [
    "import pandas as pd\n",
    "df = pd.read_csv(\"movies_metadata.csv\", low_memory=False)\n",
    "print(df.shape)\n",
    "\n",
    "\n"
   ]
  },
  {
   "cell_type": "code",
   "execution_count": 52,
   "metadata": {},
   "outputs": [
    {
     "data": {
      "text/html": [
       "<div>\n",
       "<style scoped>\n",
       "    .dataframe tbody tr th:only-of-type {\n",
       "        vertical-align: middle;\n",
       "    }\n",
       "\n",
       "    .dataframe tbody tr th {\n",
       "        vertical-align: top;\n",
       "    }\n",
       "\n",
       "    .dataframe thead th {\n",
       "        text-align: right;\n",
       "    }\n",
       "</style>\n",
       "<table border=\"1\" class=\"dataframe\">\n",
       "  <thead>\n",
       "    <tr style=\"text-align: right;\">\n",
       "      <th></th>\n",
       "      <th>title</th>\n",
       "      <th>genres_list</th>\n",
       "      <th>keywords_list</th>\n",
       "      <th>tags</th>\n",
       "    </tr>\n",
       "  </thead>\n",
       "  <tbody>\n",
       "    <tr>\n",
       "      <th>0</th>\n",
       "      <td>Toy Story</td>\n",
       "      <td>[Animation, Comedy, Family]</td>\n",
       "      <td>[jealousy, toy, boy, friendship, friends, riva...</td>\n",
       "      <td>Animation Comedy Family jealousy toy boy frien...</td>\n",
       "    </tr>\n",
       "    <tr>\n",
       "      <th>1</th>\n",
       "      <td>Jumanji</td>\n",
       "      <td>[Adventure, Fantasy, Family]</td>\n",
       "      <td>[board game, disappearance, based on children'...</td>\n",
       "      <td>Adventure Fantasy Family boardgame disappearan...</td>\n",
       "    </tr>\n",
       "    <tr>\n",
       "      <th>2</th>\n",
       "      <td>Grumpier Old Men</td>\n",
       "      <td>[Romance, Comedy]</td>\n",
       "      <td>[fishing, best friend, duringcreditsstinger, o...</td>\n",
       "      <td>Romance Comedy fishing bestfriend duringcredit...</td>\n",
       "    </tr>\n",
       "  </tbody>\n",
       "</table>\n",
       "</div>"
      ],
      "text/plain": [
       "              title                   genres_list  \\\n",
       "0         Toy Story   [Animation, Comedy, Family]   \n",
       "1           Jumanji  [Adventure, Fantasy, Family]   \n",
       "2  Grumpier Old Men             [Romance, Comedy]   \n",
       "\n",
       "                                       keywords_list  \\\n",
       "0  [jealousy, toy, boy, friendship, friends, riva...   \n",
       "1  [board game, disappearance, based on children'...   \n",
       "2  [fishing, best friend, duringcreditsstinger, o...   \n",
       "\n",
       "                                                tags  \n",
       "0  Animation Comedy Family jealousy toy boy frien...  \n",
       "1  Adventure Fantasy Family boardgame disappearan...  \n",
       "2  Romance Comedy fishing bestfriend duringcredit...  "
      ]
     },
     "metadata": {},
     "output_type": "display_data"
    }
   ],
   "source": [
    "import re\n",
    "import numpy as np\n",
    "import ast\n",
    "\n",
    "def safe_list_from_jsonlike(val, key=\"name\"):\n",
    "    \"\"\"Parse strings like \"[{'id': 28, 'name': 'Action'}, ...]\" → ['Action', ...].\"\"\"\n",
    "    if pd.isna(val): \n",
    "        return []\n",
    "    if isinstance(val, list):\n",
    "        return [d.get(key, \"\") for d in val if isinstance(d, dict)]\n",
    "    if isinstance(val, str):\n",
    "        try:\n",
    "            data = ast.literal_eval(val)\n",
    "            if isinstance(data, list):\n",
    "                return [d.get(key, \"\") for d in data if isinstance(d, dict)]\n",
    "        except Exception:\n",
    "            pass\n",
    "    return []\n",
    "\n",
    "def normalize(s):\n",
    "    s = (s or \"\").lower()\n",
    "    s = re.sub(r\"[^a-z0-9]+\", \" \", s)\n",
    "    return re.sub(r\"\\s+\", \" \", s).strip()\n",
    "\n",
    "# --- FIX: make IDs same type ---\n",
    "movies[\"id\"] = movies[\"id\"].astype(str)\n",
    "keywords[\"id\"] = keywords[\"id\"].astype(str)\n",
    "\n",
    "# merge keywords into movies\n",
    "if \"id\" in keywords.columns and \"keywords\" in keywords.columns:\n",
    "    movies = movies.merge(keywords[[\"id\", \"keywords\"]], on=\"id\", how=\"left\")\n",
    "\n",
    "# build lists\n",
    "movies[\"genres_list\"]   = movies[\"genres\"].apply(safe_list_from_jsonlike) if \"genres\" in movies else [[]]*len(movies)\n",
    "movies[\"keywords_list\"] = movies[\"keywords\"].apply(safe_list_from_jsonlike) if \"keywords\" in movies else [[]]*len(movies)\n",
    "\n",
    "# make strings\n",
    "movies[\"genres_str\"]   = movies[\"genres_list\"].apply(lambda xs: \" \".join(x.replace(\" \", \"\") for x in xs))\n",
    "movies[\"keywords_str\"] = movies[\"keywords_list\"].apply(lambda xs: \" \".join(x.replace(\" \", \"\") for x in xs))\n",
    "movies[\"overview_str\"] = movies.get(\"overview\", \"\").astype(str).map(normalize)\n",
    "\n",
    "# final text field\n",
    "movies[\"tags\"] = (movies[\"genres_str\"] + \" \" + movies[\"keywords_str\"] + \" \" + movies[\"overview_str\"]).str.strip()\n",
    "movies[\"Tags\"] = movies[\"tags\"]  # keep old cells that expect 'Tags'\n",
    "\n",
    "# sanity peek\n",
    "display(movies[[\"title\", \"genres_list\", \"keywords_list\", \"tags\"]].head(3))\n"
   ]
  },
  {
   "cell_type": "code",
   "execution_count": 53,
   "metadata": {},
   "outputs": [
    {
     "name": "stdout",
     "output_type": "stream",
     "text": [
      "Links: (45843, 3)\n",
      "   movieId  imdbId   tmdbId\n",
      "0        1  114709    862.0\n",
      "1        2  113497   8844.0\n",
      "2        3  113228  15602.0\n",
      "3        4  114885  31357.0\n",
      "4        5  113041  11862.0\n"
     ]
    }
   ],
   "source": [
    "links_file = os.path.join(BASE_DIR, \"links.csv\")\n",
    "links = pd.read_csv(links_file)\n",
    "\n",
    "print(\"Links:\", links.shape)\n",
    "print(links.head())\n"
   ]
  },
  {
   "cell_type": "code",
   "execution_count": 54,
   "metadata": {},
   "outputs": [],
   "source": [
    "movies = pd.read_csv(\n",
    "    r\"C:\\Users\\kazia\\Downloads\\Netflix-movie-recommender\\movies_metadata.csv\",\n",
    "    low_memory=False\n",
    ")\n",
    "ratings = pd.read_csv(\n",
    "    r\"C:\\Users\\kazia\\Downloads\\Netflix-movie-recommender\\ratings_small.csv\"\n",
    ")\n"
   ]
  },
  {
   "cell_type": "code",
   "execution_count": null,
   "metadata": {},
   "outputs": [],
   "source": [
    "# 🔍 Final sanity check\n",
    "try:\n",
    "    print(\"Movies dataframe shape:\", movies.shape)\n",
    "    print(\"Similarity matrix shape:\", similarity.shape)\n",
    "\n",
    "    if movies.shape[0] != similarity.shape[0]:\n",
    "        print(\"⚠️ WARNING: movies and similarity sizes do not match!\")\n",
    "    else:\n",
    "        print(\"✅ movies and similarity are aligned.\")\n",
    "except NameError as e:\n",
    "    print(\"❌ You need to run the data loading and similarity cells first!\", e)\n"
   ]
  },
  {
   "cell_type": "code",
   "execution_count": 3,
   "metadata": {},
   "outputs": [
    {
     "ename": "NameError",
     "evalue": "name 'similarity' is not defined",
     "output_type": "error",
     "traceback": [
      "\u001b[1;31m---------------------------------------------------------------------------\u001b[0m",
      "\u001b[1;31mNameError\u001b[0m                                 Traceback (most recent call last)",
      "Cell \u001b[1;32mIn[3], line 8\u001b[0m\n\u001b[0;32m      5\u001b[0m output_file \u001b[38;5;241m=\u001b[39m os\u001b[38;5;241m.\u001b[39mpath\u001b[38;5;241m.\u001b[39mjoin(os\u001b[38;5;241m.\u001b[39mgetcwd(), \u001b[38;5;124m\"\u001b[39m\u001b[38;5;124msimilarity.pkl\u001b[39m\u001b[38;5;124m\"\u001b[39m)\n\u001b[0;32m      7\u001b[0m \u001b[38;5;28;01mwith\u001b[39;00m \u001b[38;5;28mopen\u001b[39m(output_file, \u001b[38;5;124m\"\u001b[39m\u001b[38;5;124mwb\u001b[39m\u001b[38;5;124m\"\u001b[39m) \u001b[38;5;28;01mas\u001b[39;00m f:\n\u001b[1;32m----> 8\u001b[0m     pickle\u001b[38;5;241m.\u001b[39mdump(similarity, f)\n\u001b[0;32m     10\u001b[0m \u001b[38;5;28mprint\u001b[39m(\u001b[38;5;124mf\u001b[39m\u001b[38;5;124m\"\u001b[39m\u001b[38;5;124m✅ similarity.pkl saved at: \u001b[39m\u001b[38;5;132;01m{\u001b[39;00moutput_file\u001b[38;5;132;01m}\u001b[39;00m\u001b[38;5;124m\"\u001b[39m)\n\u001b[0;32m     11\u001b[0m \u001b[38;5;28mprint\u001b[39m(\u001b[38;5;124mf\u001b[39m\u001b[38;5;124m\"\u001b[39m\u001b[38;5;124mShape: \u001b[39m\u001b[38;5;132;01m{\u001b[39;00msimilarity\u001b[38;5;241m.\u001b[39mshape\u001b[38;5;132;01m}\u001b[39;00m\u001b[38;5;124m\"\u001b[39m)\n",
      "\u001b[1;31mNameError\u001b[0m: name 'similarity' is not defined"
     ]
    }
   ],
   "source": [
    "import pickle\n",
    "import os\n",
    "\n",
    "# Save similarity matrix to file for Streamlit app\n",
    "output_file = os.path.join(os.getcwd(), \"similarity.pkl\")\n",
    "\n",
    "with open(output_file, \"wb\") as f:\n",
    "    pickle.dump(similarity, f)\n",
    "\n",
    "print(f\"✅ similarity.pkl saved at: {output_file}\")\n",
    "print(f\"Shape: {similarity.shape}\")\n"
   ]
  },
  {
   "cell_type": "code",
   "execution_count": null,
   "metadata": {},
   "outputs": [],
   "source": []
  },
  {
   "cell_type": "code",
   "execution_count": null,
   "metadata": {},
   "outputs": [],
   "source": []
  },
  {
   "cell_type": "code",
   "execution_count": null,
   "id": "58bf3a58",
   "metadata": {},
   "outputs": [],
   "source": [
    "\n",
    "# 🔹 Compute Similarity Matrix\n",
    "from sklearn.feature_extraction.text import CountVectorizer\n",
    "from sklearn.metrics.pairwise import cosine_similarity\n",
    "\n",
    "# Example: using 'soup' column if available, else combine keywords/genres\n",
    "if \"soup\" in movies.columns:\n",
    "    cv = CountVectorizer(stop_words='english')\n",
    "    count_matrix = cv.fit_transform(movies['soup'].fillna(\"\"))\n",
    "    similarity = cosine_similarity(count_matrix, count_matrix)\n",
    "else:\n",
    "    print(\"⚠️ No 'soup' column found. Please build features before similarity.\")\n"
   ]
  },
  {
   "cell_type": "code",
   "execution_count": null,
   "id": "a2f91e72",
   "metadata": {},
   "outputs": [],
   "source": [
    "\n",
    "# 🔹 Optionally save similarity.pkl (not required for running)\n",
    "import pickle, os\n",
    "output_file = os.path.join(os.getcwd(), \"similarity.pkl\")\n",
    "with open(output_file, \"wb\") as f:\n",
    "    pickle.dump(similarity, f)\n",
    "print(f\"✅ similarity.pkl saved at: {output_file}\")\n"
   ]
  },
  {
   "cell_type": "code",
   "execution_count": null,
   "id": "e7bf7370",
   "metadata": {},
   "outputs": [],
   "source": [
    "\n",
    "# 🔹 Final sanity check\n",
    "print(\"Movies dataframe shape:\", movies.shape)\n",
    "print(\"Similarity matrix shape:\", similarity.shape)\n",
    "if movies.shape[0] != similarity.shape[0]:\n",
    "    print(\"⚠️ WARNING: movies and similarity sizes do not match!\")\n",
    "else:\n",
    "    print(\"✅ Movies and similarity are aligned.\")\n"
   ]
  }
 ],
 "metadata": {
  "kernelspec": {
   "display_name": "Python (aznaenv)",
   "language": "python",
   "name": "aznaenv"
  },
  "language_info": {
   "codemirror_mode": {
    "name": "ipython",
    "version": 3
   },
   "file_extension": ".py",
   "mimetype": "text/x-python",
   "name": "python",
   "nbconvert_exporter": "python",
   "pygments_lexer": "ipython3",
   "version": "3.13.5"
  }
 },
 "nbformat": 4,
 "nbformat_minor": 4
}
